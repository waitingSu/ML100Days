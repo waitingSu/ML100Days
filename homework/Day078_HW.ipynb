{
 "cells": [
  {
   "cell_type": "markdown",
   "metadata": {},
   "source": [
    "## Work\n",
    "1. 請嘗試將 preproc_x 替換成以每筆資料的 min/max 進行標準化至 -1 ~ 1 間，再進行訓練\n",
    "2. 請嘗試將 mlp 疊更深 (e.g 5~10 層)，進行訓練後觀察 learning curve 的走勢\n",
    "3. (optional) 請改用 GPU 進行訓練 (如果你有 GPU 的話)，比較使用 CPU 與 GPU 的訓練速度"
   ]
  },
  {
   "cell_type": "code",
   "execution_count": 39,
   "metadata": {},
   "outputs": [
    {
     "name": "stderr",
     "output_type": "stream",
     "text": [
      "'nvidia-smi' 不是內部或外部命令、可執行的程式或批次檔。\n"
     ]
    }
   ],
   "source": [
    "## \n",
    "\"\"\"\n",
    "Your code here (optional)\n",
    "確認硬體資源\n",
    "\"\"\"\n",
    "## 確認硬體資源 (如果你是在 Linux, 若是在 Windows, 請參考 https://blog.csdn.net/idwtwt/article/details/78017565)\n",
    "!nvidia-smi"
   ]
  },
  {
   "cell_type": "code",
   "execution_count": 40,
   "metadata": {},
   "outputs": [],
   "source": [
    "import os\n",
    "import keras\n",
    "\n",
    "# 請嘗試設定 GPU：os.environ\n",
    "os.environ[\"CUDA_VISIBLE_DEVICES\"] = \"0\""
   ]
  },
  {
   "cell_type": "code",
   "execution_count": 41,
   "metadata": {},
   "outputs": [],
   "source": [
    "train, test = keras.datasets.cifar10.load_data()"
   ]
  },
  {
   "cell_type": "code",
   "execution_count": 42,
   "metadata": {},
   "outputs": [],
   "source": [
    "## 資料前處理\n",
    "\"\"\"\n",
    "Your code here\n",
    "\"\"\"\n",
    "## 資料前處理\n",
    "def preproc_x(x, flatten=True):\n",
    "    x = 2 * (((x-x.min())/(x.max()-x.min())) - 0.5)\n",
    "    if flatten:\n",
    "        x = x.reshape((len(x), -1))\n",
    "    return x\n",
    "\n",
    "def preproc_y(y, num_classes=10):\n",
    "    if y.shape[-1] == 1:\n",
    "        y = keras.utils.to_categorical(y, num_classes)\n",
    "    return y"
   ]
  },
  {
   "cell_type": "code",
   "execution_count": 43,
   "metadata": {},
   "outputs": [],
   "source": [
    "x_train, y_train = train\n",
    "x_test, y_test = test\n",
    "\n",
    "# Preproc the inputs\n",
    "x_train = preproc_x(x_train)\n",
    "x_test = preproc_x(x_test)\n",
    "\n",
    "# Preprc the outputs\n",
    "y_train = preproc_y(y_train)\n",
    "y_test = preproc_y(y_test)"
   ]
  },
  {
   "cell_type": "code",
   "execution_count": 44,
   "metadata": {},
   "outputs": [
    {
     "name": "stdout",
     "output_type": "stream",
     "text": [
      "Model: \"functional_7\"\n",
      "_________________________________________________________________\n",
      "Layer (type)                 Output Shape              Param #   \n",
      "=================================================================\n",
      "input_5 (InputLayer)         [(None, 3072)]            0         \n",
      "_________________________________________________________________\n",
      "hidden_layer1 (Dense)        (None, 512)               1573376   \n",
      "_________________________________________________________________\n",
      "hidden_layer2 (Dense)        (None, 256)               131328    \n",
      "_________________________________________________________________\n",
      "hidden_layer3 (Dense)        (None, 128)               32896     \n",
      "_________________________________________________________________\n",
      "hidden_layer4 (Dense)        (None, 64)                8256      \n",
      "_________________________________________________________________\n",
      "hidden_layer5 (Dense)        (None, 32)                2080      \n",
      "_________________________________________________________________\n",
      "output (Dense)               (None, 10)                330       \n",
      "=================================================================\n",
      "Total params: 1,748,266\n",
      "Trainable params: 1,748,266\n",
      "Non-trainable params: 0\n",
      "_________________________________________________________________\n"
     ]
    }
   ],
   "source": [
    "\"\"\"Code Here\n",
    "建立你的神經網路\n",
    "\"\"\"\n",
    "def build_mlp(input_shape, output_units=10, num_neurons=[512, 256, 128,64,32]):\n",
    "    input_layer = keras.layers.Input(input_shape)\n",
    "    \n",
    "    for i, n_units in enumerate(num_neurons):\n",
    "        if i == 0:\n",
    "            x = keras.layers.Dense(units=n_units, activation=\"relu\", name=\"hidden_layer\"+str(i+1))(input_layer)\n",
    "        else:\n",
    "            x = keras.layers.Dense(units=n_units, activation=\"relu\", name=\"hidden_layer\"+str(i+1))(x)\n",
    "    \n",
    "    out = keras.layers.Dense(units=output_units, activation=\"softmax\", name=\"output\")(x)\n",
    "    \n",
    "    model = keras.models.Model(inputs=[input_layer], outputs=[out])\n",
    "    return model\n",
    "\n",
    "model = build_mlp(input_shape=x_train.shape[1:])\n",
    "model.summary()"
   ]
  },
  {
   "cell_type": "code",
   "execution_count": 45,
   "metadata": {},
   "outputs": [],
   "source": [
    "## 超參數設定\n",
    "LEARNING_RATE = 0.001\n",
    "EPOCHS = 100\n",
    "BATCH_SIZE = 256"
   ]
  },
  {
   "cell_type": "code",
   "execution_count": 46,
   "metadata": {},
   "outputs": [],
   "source": [
    "optimizer = keras.optimizers.Adam(lr=LEARNING_RATE)\n",
    "model.compile(loss=\"categorical_crossentropy\", metrics=[\"accuracy\"], optimizer=optimizer)"
   ]
  },
  {
   "cell_type": "code",
   "execution_count": 47,
   "metadata": {},
   "outputs": [
    {
     "name": "stdout",
     "output_type": "stream",
     "text": [
      "Epoch 1/100\n",
      "196/196 [==============================] - 4s 21ms/step - loss: 1.7410 - accuracy: 0.3842 - val_loss: 1.5884 - val_accuracy: 0.4375\n",
      "Epoch 2/100\n",
      "196/196 [==============================] - 4s 19ms/step - loss: 1.4990 - accuracy: 0.4707 - val_loss: 1.4669 - val_accuracy: 0.4864\n",
      "Epoch 3/100\n",
      "196/196 [==============================] - 4s 20ms/step - loss: 1.3766 - accuracy: 0.5155 - val_loss: 1.4348 - val_accuracy: 0.4886\n",
      "Epoch 4/100\n",
      "196/196 [==============================] - 4s 20ms/step - loss: 1.2817 - accuracy: 0.5495 - val_loss: 1.3760 - val_accuracy: 0.5194\n",
      "Epoch 5/100\n",
      "196/196 [==============================] - 4s 19ms/step - loss: 1.1898 - accuracy: 0.5809 - val_loss: 1.3732 - val_accuracy: 0.5206\n",
      "Epoch 6/100\n",
      "196/196 [==============================] - 4s 19ms/step - loss: 1.1198 - accuracy: 0.6050 - val_loss: 1.3415 - val_accuracy: 0.5281\n",
      "Epoch 7/100\n",
      "196/196 [==============================] - 4s 19ms/step - loss: 1.0374 - accuracy: 0.6332 - val_loss: 1.3657 - val_accuracy: 0.5367\n",
      "Epoch 8/100\n",
      "196/196 [==============================] - 3s 18ms/step - loss: 0.9689 - accuracy: 0.6591 - val_loss: 1.3788 - val_accuracy: 0.5306\n",
      "Epoch 9/100\n",
      "196/196 [==============================] - 4s 19ms/step - loss: 0.9005 - accuracy: 0.6836 - val_loss: 1.4335 - val_accuracy: 0.5352\n",
      "Epoch 10/100\n",
      "196/196 [==============================] - 4s 20ms/step - loss: 0.8245 - accuracy: 0.7087 - val_loss: 1.4764 - val_accuracy: 0.5380\n",
      "Epoch 11/100\n",
      "196/196 [==============================] - 4s 18ms/step - loss: 0.7613 - accuracy: 0.7290 - val_loss: 1.5080 - val_accuracy: 0.5321\n",
      "Epoch 12/100\n",
      "196/196 [==============================] - 4s 19ms/step - loss: 0.7027 - accuracy: 0.7499 - val_loss: 1.5662 - val_accuracy: 0.5362\n",
      "Epoch 13/100\n",
      "196/196 [==============================] - 4s 19ms/step - loss: 0.6307 - accuracy: 0.7784 - val_loss: 1.6025 - val_accuracy: 0.5324\n",
      "Epoch 14/100\n",
      "196/196 [==============================] - 3s 18ms/step - loss: 0.5770 - accuracy: 0.7958 - val_loss: 1.7237 - val_accuracy: 0.5239\n",
      "Epoch 15/100\n",
      "196/196 [==============================] - 4s 18ms/step - loss: 0.5277 - accuracy: 0.8131 - val_loss: 1.8112 - val_accuracy: 0.5279\n",
      "Epoch 16/100\n",
      "196/196 [==============================] - 4s 19ms/step - loss: 0.4880 - accuracy: 0.8292 - val_loss: 1.9102 - val_accuracy: 0.5292loss: 0.4 - ETA: 0s\n",
      "Epoch 17/100\n",
      "196/196 [==============================] - 4s 19ms/step - loss: 0.4383 - accuracy: 0.8462 - val_loss: 2.0056 - val_accuracy: 0.5252\n",
      "Epoch 18/100\n",
      "196/196 [==============================] - 4s 18ms/step - loss: 0.4054 - accuracy: 0.8559 - val_loss: 2.0549 - val_accuracy: 0.5283\n",
      "Epoch 19/100\n",
      "196/196 [==============================] - 3s 18ms/step - loss: 0.3668 - accuracy: 0.8707 - val_loss: 2.1514 - val_accuracy: 0.5278\n",
      "Epoch 20/100\n",
      "196/196 [==============================] - 3s 18ms/step - loss: 0.3443 - accuracy: 0.8779 - val_loss: 2.2496 - val_accuracy: 0.5326\n",
      "Epoch 21/100\n",
      "196/196 [==============================] - 4s 18ms/step - loss: 0.3104 - accuracy: 0.8917 - val_loss: 2.4347 - val_accuracy: 0.5316\n",
      "Epoch 22/100\n",
      "196/196 [==============================] - 3s 18ms/step - loss: 0.2860 - accuracy: 0.9004 - val_loss: 2.4336 - val_accuracy: 0.5259\n",
      "Epoch 23/100\n",
      "196/196 [==============================] - 4s 18ms/step - loss: 0.2750 - accuracy: 0.9032 - val_loss: 2.5882 - val_accuracy: 0.5245\n",
      "Epoch 24/100\n",
      "196/196 [==============================] - 4s 18ms/step - loss: 0.2657 - accuracy: 0.9068 - val_loss: 2.6588 - val_accuracy: 0.5275\n",
      "Epoch 25/100\n",
      "196/196 [==============================] - 4s 19ms/step - loss: 0.2526 - accuracy: 0.9119 - val_loss: 2.7140 - val_accuracy: 0.5281\n",
      "Epoch 26/100\n",
      "196/196 [==============================] - 4s 18ms/step - loss: 0.2280 - accuracy: 0.9211 - val_loss: 2.8786 - val_accuracy: 0.5298\n",
      "Epoch 27/100\n",
      "196/196 [==============================] - 4s 19ms/step - loss: 0.2268 - accuracy: 0.9206 - val_loss: 2.9085 - val_accuracy: 0.5235\n",
      "Epoch 28/100\n",
      "196/196 [==============================] - 4s 18ms/step - loss: 0.2082 - accuracy: 0.9282 - val_loss: 2.9448 - val_accuracy: 0.5323\n",
      "Epoch 29/100\n",
      "196/196 [==============================] - 4s 19ms/step - loss: 0.2046 - accuracy: 0.9301 - val_loss: 3.0031 - val_accuracy: 0.5334\n",
      "Epoch 30/100\n",
      "196/196 [==============================] - 4s 18ms/step - loss: 0.1864 - accuracy: 0.9361 - val_loss: 3.0067 - val_accuracy: 0.5373\n",
      "Epoch 31/100\n",
      "196/196 [==============================] - 4s 18ms/step - loss: 0.1742 - accuracy: 0.9396 - val_loss: 3.2116 - val_accuracy: 0.5292\n",
      "Epoch 32/100\n",
      "196/196 [==============================] - 4s 18ms/step - loss: 0.1988 - accuracy: 0.9322 - val_loss: 3.0331 - val_accuracy: 0.5190\n",
      "Epoch 33/100\n",
      "196/196 [==============================] - 4s 18ms/step - loss: 0.1664 - accuracy: 0.9412 - val_loss: 3.3342 - val_accuracy: 0.5266\n",
      "Epoch 34/100\n",
      "196/196 [==============================] - 4s 19ms/step - loss: 0.1537 - accuracy: 0.9461 - val_loss: 3.3729 - val_accuracy: 0.5299\n",
      "Epoch 35/100\n",
      "196/196 [==============================] - 4s 19ms/step - loss: 0.1758 - accuracy: 0.9400 - val_loss: 3.3544 - val_accuracy: 0.5247\n",
      "Epoch 36/100\n",
      "196/196 [==============================] - 4s 20ms/step - loss: 0.1569 - accuracy: 0.9463 - val_loss: 3.4343 - val_accuracy: 0.5260\n",
      "Epoch 37/100\n",
      "196/196 [==============================] - 4s 18ms/step - loss: 0.1448 - accuracy: 0.9511 - val_loss: 3.4217 - val_accuracy: 0.5341\n",
      "Epoch 38/100\n",
      "196/196 [==============================] - 4s 19ms/step - loss: 0.1432 - accuracy: 0.9502 - val_loss: 3.5644 - val_accuracy: 0.5295\n",
      "Epoch 39/100\n",
      "196/196 [==============================] - 4s 19ms/step - loss: 0.1551 - accuracy: 0.9471 - val_loss: 3.5300 - val_accuracy: 0.5278\n",
      "Epoch 40/100\n",
      "196/196 [==============================] - 4s 19ms/step - loss: 0.1343 - accuracy: 0.9542 - val_loss: 3.6515 - val_accuracy: 0.5259\n",
      "Epoch 41/100\n",
      "196/196 [==============================] - 4s 18ms/step - loss: 0.1275 - accuracy: 0.9575 - val_loss: 3.5645 - val_accuracy: 0.5249\n",
      "Epoch 42/100\n",
      "196/196 [==============================] - 4s 18ms/step - loss: 0.1313 - accuracy: 0.9553 - val_loss: 3.7573 - val_accuracy: 0.5252\n",
      "Epoch 43/100\n",
      "196/196 [==============================] - 4s 19ms/step - loss: 0.1391 - accuracy: 0.9533 - val_loss: 3.5687 - val_accuracy: 0.5298\n",
      "Epoch 44/100\n",
      "196/196 [==============================] - 4s 18ms/step - loss: 0.1237 - accuracy: 0.9589 - val_loss: 3.6408 - val_accuracy: 0.5232\n",
      "Epoch 45/100\n",
      "196/196 [==============================] - 4s 18ms/step - loss: 0.1454 - accuracy: 0.9509 - val_loss: 3.7056 - val_accuracy: 0.5335\n",
      "Epoch 46/100\n",
      "196/196 [==============================] - 4s 19ms/step - loss: 0.1212 - accuracy: 0.9595 - val_loss: 3.7218 - val_accuracy: 0.5218\n",
      "Epoch 47/100\n",
      "196/196 [==============================] - 4s 19ms/step - loss: 0.1038 - accuracy: 0.9654 - val_loss: 3.9687 - val_accuracy: 0.5207\n",
      "Epoch 48/100\n",
      "196/196 [==============================] - 4s 18ms/step - loss: 0.1292 - accuracy: 0.9574 - val_loss: 3.9109 - val_accuracy: 0.5233\n",
      "Epoch 49/100\n",
      "196/196 [==============================] - 3s 17ms/step - loss: 0.1278 - accuracy: 0.9586 - val_loss: 3.9345 - val_accuracy: 0.5194\n",
      "Epoch 50/100\n",
      "196/196 [==============================] - 3s 17ms/step - loss: 0.1012 - accuracy: 0.9665 - val_loss: 3.8196 - val_accuracy: 0.5239\n",
      "Epoch 51/100\n",
      "196/196 [==============================] - 3s 18ms/step - loss: 0.0856 - accuracy: 0.9708 - val_loss: 4.0656 - val_accuracy: 0.5248\n",
      "Epoch 52/100\n",
      "196/196 [==============================] - 3s 17ms/step - loss: 0.1190 - accuracy: 0.9613 - val_loss: 3.7393 - val_accuracy: 0.5318\n",
      "Epoch 53/100\n",
      "196/196 [==============================] - 3s 17ms/step - loss: 0.1107 - accuracy: 0.9631 - val_loss: 4.0191 - val_accuracy: 0.5292\n",
      "Epoch 54/100\n",
      "196/196 [==============================] - 3s 17ms/step - loss: 0.1178 - accuracy: 0.9614 - val_loss: 3.8475 - val_accuracy: 0.5184\n",
      "Epoch 55/100\n",
      "196/196 [==============================] - 3s 17ms/step - loss: 0.1202 - accuracy: 0.9614 - val_loss: 3.9721 - val_accuracy: 0.5268\n",
      "Epoch 56/100\n",
      "196/196 [==============================] - 3s 17ms/step - loss: 0.1111 - accuracy: 0.9636 - val_loss: 3.8681 - val_accuracy: 0.5370\n",
      "Epoch 57/100\n"
     ]
    },
    {
     "name": "stdout",
     "output_type": "stream",
     "text": [
      "196/196 [==============================] - 3s 17ms/step - loss: 0.0861 - accuracy: 0.9706 - val_loss: 4.0033 - val_accuracy: 0.5237\n",
      "Epoch 58/100\n",
      "196/196 [==============================] - 3s 17ms/step - loss: 0.0939 - accuracy: 0.9683 - val_loss: 4.2783 - val_accuracy: 0.5194\n",
      "Epoch 59/100\n",
      "196/196 [==============================] - 3s 17ms/step - loss: 0.1095 - accuracy: 0.9639 - val_loss: 4.0968 - val_accuracy: 0.5300\n",
      "Epoch 60/100\n",
      "196/196 [==============================] - 3s 17ms/step - loss: 0.0937 - accuracy: 0.9687 - val_loss: 4.1200 - val_accuracy: 0.5228\n",
      "Epoch 61/100\n",
      "196/196 [==============================] - 3s 17ms/step - loss: 0.1020 - accuracy: 0.9663 - val_loss: 3.8054 - val_accuracy: 0.5307\n",
      "Epoch 62/100\n",
      "196/196 [==============================] - 3s 17ms/step - loss: 0.0773 - accuracy: 0.9751 - val_loss: 4.2626 - val_accuracy: 0.5297\n",
      "Epoch 63/100\n",
      "196/196 [==============================] - 3s 17ms/step - loss: 0.1071 - accuracy: 0.9657 - val_loss: 4.0641 - val_accuracy: 0.5310\n",
      "Epoch 64/100\n",
      "196/196 [==============================] - 3s 17ms/step - loss: 0.0924 - accuracy: 0.9691 - val_loss: 4.2170 - val_accuracy: 0.5255\n",
      "Epoch 65/100\n",
      "196/196 [==============================] - 3s 17ms/step - loss: 0.0889 - accuracy: 0.9708 - val_loss: 4.2696 - val_accuracy: 0.5267\n",
      "Epoch 66/100\n",
      "196/196 [==============================] - 3s 17ms/step - loss: 0.0714 - accuracy: 0.9755 - val_loss: 4.4498 - val_accuracy: 0.5247- ETA: 0s - loss: 0.0\n",
      "Epoch 67/100\n",
      "196/196 [==============================] - 3s 17ms/step - loss: 0.1170 - accuracy: 0.9607 - val_loss: 4.1001 - val_accuracy: 0.5265\n",
      "Epoch 68/100\n",
      "196/196 [==============================] - 3s 17ms/step - loss: 0.0801 - accuracy: 0.9735 - val_loss: 4.3410 - val_accuracy: 0.5325\n",
      "Epoch 69/100\n",
      "196/196 [==============================] - 3s 17ms/step - loss: 0.0793 - accuracy: 0.9741 - val_loss: 4.2178 - val_accuracy: 0.5197\n",
      "Epoch 70/100\n",
      "196/196 [==============================] - 3s 17ms/step - loss: 0.0841 - accuracy: 0.9718 - val_loss: 4.3645 - val_accuracy: 0.5324\n",
      "Epoch 71/100\n",
      "196/196 [==============================] - 4s 18ms/step - loss: 0.0851 - accuracy: 0.9724 - val_loss: 4.2947 - val_accuracy: 0.5301\n",
      "Epoch 72/100\n",
      "196/196 [==============================] - 3s 18ms/step - loss: 0.0873 - accuracy: 0.9725 - val_loss: 4.3223 - val_accuracy: 0.5303\n",
      "Epoch 73/100\n",
      "196/196 [==============================] - 3s 17ms/step - loss: 0.0821 - accuracy: 0.9732 - val_loss: 4.3637 - val_accuracy: 0.5241\n",
      "Epoch 74/100\n",
      "196/196 [==============================] - 3s 17ms/step - loss: 0.0691 - accuracy: 0.9772 - val_loss: 4.4142 - val_accuracy: 0.5240\n",
      "Epoch 75/100\n",
      "196/196 [==============================] - 3s 18ms/step - loss: 0.0832 - accuracy: 0.9731 - val_loss: 4.4116 - val_accuracy: 0.5385\n",
      "Epoch 76/100\n",
      "196/196 [==============================] - 3s 17ms/step - loss: 0.0738 - accuracy: 0.9753 - val_loss: 4.5007 - val_accuracy: 0.5207\n",
      "Epoch 77/100\n",
      "196/196 [==============================] - 3s 17ms/step - loss: 0.0979 - accuracy: 0.9686 - val_loss: 4.3050 - val_accuracy: 0.5238\n",
      "Epoch 78/100\n",
      "196/196 [==============================] - 3s 17ms/step - loss: 0.0795 - accuracy: 0.9742 - val_loss: 4.4342 - val_accuracy: 0.5263\n",
      "Epoch 79/100\n",
      "196/196 [==============================] - 3s 17ms/step - loss: 0.0814 - accuracy: 0.9738 - val_loss: 4.5044 - val_accuracy: 0.5234\n",
      "Epoch 80/100\n",
      "196/196 [==============================] - 3s 17ms/step - loss: 0.0679 - accuracy: 0.9783 - val_loss: 4.5970 - val_accuracy: 0.5242\n",
      "Epoch 81/100\n",
      "196/196 [==============================] - 3s 17ms/step - loss: 0.0684 - accuracy: 0.9779 - val_loss: 4.4519 - val_accuracy: 0.5281\n",
      "Epoch 82/100\n",
      "196/196 [==============================] - 3s 17ms/step - loss: 0.0795 - accuracy: 0.9746 - val_loss: 4.3753 - val_accuracy: 0.5263\n",
      "Epoch 83/100\n",
      "196/196 [==============================] - 3s 17ms/step - loss: 0.0770 - accuracy: 0.9748 - val_loss: 4.2915 - val_accuracy: 0.5239\n",
      "Epoch 84/100\n",
      "196/196 [==============================] - 3s 17ms/step - loss: 0.0669 - accuracy: 0.9784 - val_loss: 4.5583 - val_accuracy: 0.5231\n",
      "Epoch 85/100\n",
      "196/196 [==============================] - 3s 17ms/step - loss: 0.0840 - accuracy: 0.9727 - val_loss: 4.3117 - val_accuracy: 0.5249\n",
      "Epoch 86/100\n",
      "196/196 [==============================] - 3s 17ms/step - loss: 0.0740 - accuracy: 0.9764 - val_loss: 4.5119 - val_accuracy: 0.5271\n",
      "Epoch 87/100\n",
      "196/196 [==============================] - 3s 17ms/step - loss: 0.0625 - accuracy: 0.9792 - val_loss: 4.4452 - val_accuracy: 0.5298\n",
      "Epoch 88/100\n",
      "196/196 [==============================] - 3s 17ms/step - loss: 0.0652 - accuracy: 0.9793 - val_loss: 4.6091 - val_accuracy: 0.5261\n",
      "Epoch 89/100\n",
      "196/196 [==============================] - 3s 17ms/step - loss: 0.0678 - accuracy: 0.9773 - val_loss: 4.5318 - val_accuracy: 0.5219\n",
      "Epoch 90/100\n",
      "196/196 [==============================] - 3s 17ms/step - loss: 0.0836 - accuracy: 0.9735 - val_loss: 4.4532 - val_accuracy: 0.5261\n",
      "Epoch 91/100\n",
      "196/196 [==============================] - 3s 17ms/step - loss: 0.0603 - accuracy: 0.9801 - val_loss: 4.7645 - val_accuracy: 0.5285\n",
      "Epoch 92/100\n",
      "196/196 [==============================] - 3s 17ms/step - loss: 0.0494 - accuracy: 0.9838 - val_loss: 4.7999 - val_accuracy: 0.5303\n",
      "Epoch 93/100\n",
      "196/196 [==============================] - 3s 17ms/step - loss: 0.0741 - accuracy: 0.9760 - val_loss: 4.4957 - val_accuracy: 0.5336\n",
      "Epoch 94/100\n",
      "196/196 [==============================] - 3s 17ms/step - loss: 0.0723 - accuracy: 0.9773 - val_loss: 4.5489 - val_accuracy: 0.5284\n",
      "Epoch 95/100\n",
      "196/196 [==============================] - 3s 18ms/step - loss: 0.0548 - accuracy: 0.9826 - val_loss: 4.5446 - val_accuracy: 0.5270\n",
      "Epoch 96/100\n",
      "196/196 [==============================] - 3s 17ms/step - loss: 0.0632 - accuracy: 0.9796 - val_loss: 4.7422 - val_accuracy: 0.5311\n",
      "Epoch 97/100\n",
      "196/196 [==============================] - 3s 17ms/step - loss: 0.0655 - accuracy: 0.9789 - val_loss: 4.7284 - val_accuracy: 0.5205\n",
      "Epoch 98/100\n",
      "196/196 [==============================] - 3s 17ms/step - loss: 0.0574 - accuracy: 0.9817 - val_loss: 4.7792 - val_accuracy: 0.5280\n",
      "Epoch 99/100\n",
      "196/196 [==============================] - 3s 17ms/step - loss: 0.0592 - accuracy: 0.9815 - val_loss: 4.8132 - val_accuracy: 0.5206\n",
      "Epoch 100/100\n",
      "196/196 [==============================] - 3s 18ms/step - loss: 0.0753 - accuracy: 0.9761 - val_loss: 4.6053 - val_accuracy: 0.5294\n"
     ]
    },
    {
     "data": {
      "text/plain": [
       "<tensorflow.python.keras.callbacks.History at 0x23991615e08>"
      ]
     },
     "execution_count": 47,
     "metadata": {},
     "output_type": "execute_result"
    }
   ],
   "source": [
    "model.fit(x_train, y_train, \n",
    "          epochs=EPOCHS, \n",
    "          batch_size=BATCH_SIZE, \n",
    "          validation_data=(x_test, y_test), \n",
    "          shuffle=True)"
   ]
  },
  {
   "cell_type": "code",
   "execution_count": 48,
   "metadata": {},
   "outputs": [
    {
     "data": {
      "image/png": "[encoded data removed]",
      "text/plain": [
       "<Figure size 432x288 with 1 Axes>"
      ]
     },
     "metadata": {
      "needs_background": "light"
     },
     "output_type": "display_data"
    },
    {
     "data": {
      "image/png": "[encoded data removed]",
      "text/plain": [
       "<Figure size 432x288 with 1 Axes>"
      ]
     },
     "metadata": {
      "needs_background": "light"
     },
     "output_type": "display_data"
    }
   ],
   "source": [
    "import matplotlib.pyplot as plt\n",
    "\n",
    "\n",
    "train_loss = model.history.history[\"loss\"]\n",
    "valid_loss = model.history.history[\"val_loss\"]\n",
    "\n",
    "train_acc = model.history.history[\"accuracy\"]\n",
    "valid_acc = model.history.history[\"val_accuracy\"]\n",
    "\n",
    "plt.plot(range(len(train_loss)), train_loss, label=\"train loss\")\n",
    "plt.plot(range(len(valid_loss)), valid_loss, label=\"valid loss\")\n",
    "plt.legend()\n",
    "plt.title(\"Loss\")\n",
    "plt.show()\n",
    "\n",
    "plt.plot(range(len(train_acc)), train_acc, label=\"train accuracy\")\n",
    "plt.plot(range(len(valid_acc)), valid_acc, label=\"valid accuracy\")\n",
    "plt.legend()\n",
    "plt.title(\"Accuracy\")\n",
    "plt.show()"
   ]
  }
 ],
 "metadata": {
  "kernelspec": {
   "display_name": "Python 3",
   "language": "python",
   "name": "python3"
  },
  "language_info": {
   "codemirror_mode": {
    "name": "ipython",
    "version": 3
   },
   "file_extension": ".py",
   "mimetype": "text/x-python",
   "name": "python",
   "nbconvert_exporter": "python",
   "pygments_lexer": "ipython3",
   "version": "3.7.6"
  }
 },
 "nbformat": 4,
 "nbformat_minor": 2
}
