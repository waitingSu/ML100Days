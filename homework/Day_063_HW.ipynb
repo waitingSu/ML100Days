{
 "cells": [
  {
   "cell_type": "markdown",
   "metadata": {},
   "source": [
    "# 作業\n",
    "* 在精簡深度學習的方式上 : 卷積類神經 (CNN) 採用像素遠近，而遞歸類神經 (RNN) 採用著則是時間遠近\n",
    "* 那麼，既然有著類似的設計精神，兩者是否有可能互換應用呢?"
   ]
  },
  {
   "cell_type": "markdown",
   "metadata": {
    "collapsed": true
   },
   "source": [
    "可以，因為不論是語言跟圖像都具有空間與時間的特徵。\n",
    "CNN:屬於空間擴展，只要能夠轉換成圖片的形式(如:音訊，文字排列等)就能夠進行處理，但如果資料不會受改變行列順序所影響，這種資料就不適合使用 CNN 處理(如客戶資料消費行為分析)。\n",
    "RNN:屬於時間擴展。只要資料有時間上的關係，即帶有順序性就能夠使用RNN。\n",
    "只要符合兩者可應用的特徵就可以互相應用\n",
    "如RNN可以用於影片去判斷影片的情境從而產生影片描述語句，\n",
    "CNN也可以反過來用圖片或影像的描述去抓取圖像特徵。\n",
    "\n",
    "[CNN與RNN的應用](https://kknews.cc/science/629xlz3.html)"
   ]
  }
 ],
 "metadata": {
  "kernelspec": {
   "display_name": "Python 3",
   "language": "python",
   "name": "python3"
  },
  "language_info": {
   "codemirror_mode": {
    "name": "ipython",
    "version": 3
   },
   "file_extension": ".py",
   "mimetype": "text/x-python",
   "name": "python",
   "nbconvert_exporter": "python",
   "pygments_lexer": "ipython3",
   "version": "3.7.6"
  }
 },
 "nbformat": 4,
 "nbformat_minor": 2
}
