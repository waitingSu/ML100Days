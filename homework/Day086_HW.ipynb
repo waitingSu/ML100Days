{
 "cells": [
  {
   "cell_type": "markdown",
   "metadata": {},
   "source": [
    "## Work\n",
    "1. 試比較 save_best_only 與否的差異\n",
    "2. 請僅存入將 save_weights_only 設定為 True, 並嘗試 reset ipynb 並將模型與權重重新建回並預測 x_test"
   ]
  },
  {
   "cell_type": "code",
   "execution_count": 62,
   "metadata": {},
   "outputs": [],
   "source": [
    "import os\n",
    "import keras\n",
    "\n",
    "# Disable GPU\n",
    "os.environ[\"CUDA_VISIBLE_DEVICES\"] = \"0\""
   ]
  },
  {
   "cell_type": "code",
   "execution_count": 63,
   "metadata": {},
   "outputs": [],
   "source": [
    "train, test = keras.datasets.cifar10.load_data()"
   ]
  },
  {
   "cell_type": "code",
   "execution_count": 64,
   "metadata": {},
   "outputs": [],
   "source": [
    "## 資料前處理\n",
    "def preproc_x(x, flatten=True):\n",
    "    x = x / 255.\n",
    "    if flatten:\n",
    "        x = x.reshape((len(x), -1))\n",
    "    return x\n",
    "\n",
    "def preproc_y(y, num_classes=10):\n",
    "    if y.shape[-1] == 1:\n",
    "        y = keras.utils.to_categorical(y, num_classes)\n",
    "    return y    "
   ]
  },
  {
   "cell_type": "code",
   "execution_count": 65,
   "metadata": {},
   "outputs": [],
   "source": [
    "x_train, y_train = train\n",
    "x_test, y_test = test\n",
    "\n",
    "# Preproc the inputs\n",
    "x_train = preproc_x(x_train)\n",
    "x_test = preproc_x(x_test)\n",
    "\n",
    "# Preprc the outputs\n",
    "y_train = preproc_y(y_train)\n",
    "y_test = preproc_y(y_test)"
   ]
  },
  {
   "cell_type": "code",
   "execution_count": 66,
   "metadata": {},
   "outputs": [],
   "source": [
    "from keras.layers import BatchNormalization\n",
    "\n",
    "def build_mlp(input_shape, output_units=10, num_neurons=[512, 256, 128]):\n",
    "    input_layer = keras.layers.Input(input_shape)\n",
    "    \n",
    "    for i, n_units in enumerate(num_neurons):\n",
    "        if i == 0:\n",
    "            x = keras.layers.Dense(units=n_units, \n",
    "                                   activation=\"relu\", \n",
    "                                   name=\"hidden_layer\"+str(i+1))(input_layer)\n",
    "            x = BatchNormalization()(x)\n",
    "        else:\n",
    "            x = keras.layers.Dense(units=n_units, \n",
    "                                   activation=\"relu\", \n",
    "                                   name=\"hidden_layer\"+str(i+1))(x)\n",
    "            x = BatchNormalization()(x)\n",
    "    \n",
    "    out = keras.layers.Dense(units=output_units, activation=\"softmax\", name=\"output\")(x)\n",
    "    \n",
    "    model = keras.models.Model(inputs=[input_layer], outputs=[out])\n",
    "    return model"
   ]
  },
  {
   "cell_type": "code",
   "execution_count": 67,
   "metadata": {},
   "outputs": [],
   "source": [
    "\"\"\"Code Here\n",
    "設定超參數\n",
    "\"\"\"\n",
    "LEARNING_RATE = 1e-3\n",
    "EPOCHS = 50\n",
    "BATCH_SIZE = 1024\n",
    "MOMENTUM = 0.95"
   ]
  },
  {
   "cell_type": "markdown",
   "metadata": {},
   "source": [
    "## save_best_only:False"
   ]
  },
  {
   "cell_type": "code",
   "execution_count": 68,
   "metadata": {},
   "outputs": [],
   "source": [
    "# 載入 Callbacks\n",
    "\"\"\"Code Here\n",
    "設定 callbacks: model checkpoint\n",
    "\"\"\"\n",
    "from keras.callbacks import ModelCheckpoint\n",
    "\n",
    "model_ckpt = ModelCheckpoint(filepath=\"./tmp.h5\", \n",
    "                             monitor=\"val_loss\", \n",
    "                             save_best_only=False)"
   ]
  },
  {
   "cell_type": "code",
   "execution_count": 69,
   "metadata": {},
   "outputs": [
    {
     "name": "stdout",
     "output_type": "stream",
     "text": [
      "Model: \"functional_23\"\n",
      "_________________________________________________________________\n",
      "Layer (type)                 Output Shape              Param #   \n",
      "=================================================================\n",
      "input_13 (InputLayer)        [(None, 3072)]            0         \n",
      "_________________________________________________________________\n",
      "hidden_layer1 (Dense)        (None, 512)               1573376   \n",
      "_________________________________________________________________\n",
      "batch_normalization_33 (Batc (None, 512)               2048      \n",
      "_________________________________________________________________\n",
      "hidden_layer2 (Dense)        (None, 256)               131328    \n",
      "_________________________________________________________________\n",
      "batch_normalization_34 (Batc (None, 256)               1024      \n",
      "_________________________________________________________________\n",
      "hidden_layer3 (Dense)        (None, 128)               32896     \n",
      "_________________________________________________________________\n",
      "batch_normalization_35 (Batc (None, 128)               512       \n",
      "_________________________________________________________________\n",
      "output (Dense)               (None, 10)                1290      \n",
      "=================================================================\n",
      "Total params: 1,742,474\n",
      "Trainable params: 1,740,682\n",
      "Non-trainable params: 1,792\n",
      "_________________________________________________________________\n",
      "Epoch 1/50\n",
      "49/49 [==============================] - 3s 69ms/step - loss: 2.2101 - accuracy: 0.2733 - val_loss: 2.1161 - val_accuracy: 0.2324\n",
      "Epoch 2/50\n",
      "49/49 [==============================] - 3s 67ms/step - loss: 1.7291 - accuracy: 0.3965 - val_loss: 1.9497 - val_accuracy: 0.3206\n",
      "Epoch 3/50\n",
      "49/49 [==============================] - 3s 65ms/step - loss: 1.6108 - accuracy: 0.4370 - val_loss: 1.8160 - val_accuracy: 0.3787\n",
      "Epoch 4/50\n",
      "49/49 [==============================] - 3s 64ms/step - loss: 1.5424 - accuracy: 0.4610 - val_loss: 1.7148 - val_accuracy: 0.4133\n",
      "Epoch 5/50\n",
      "49/49 [==============================] - 3s 67ms/step - loss: 1.4899 - accuracy: 0.4788 - val_loss: 1.6432 - val_accuracy: 0.4314\n",
      "Epoch 6/50\n",
      "49/49 [==============================] - 3s 63ms/step - loss: 1.4468 - accuracy: 0.4948 - val_loss: 1.5833 - val_accuracy: 0.4511\n",
      "Epoch 7/50\n",
      "49/49 [==============================] - 3s 63ms/step - loss: 1.4079 - accuracy: 0.5103 - val_loss: 1.5535 - val_accuracy: 0.4580\n",
      "Epoch 8/50\n",
      "49/49 [==============================] - 3s 63ms/step - loss: 1.3741 - accuracy: 0.5212 - val_loss: 1.5224 - val_accuracy: 0.4682\n",
      "Epoch 9/50\n",
      "49/49 [==============================] - 3s 62ms/step - loss: 1.3405 - accuracy: 0.5317 - val_loss: 1.5114 - val_accuracy: 0.4671\n",
      "Epoch 10/50\n",
      "49/49 [==============================] - 3s 64ms/step - loss: 1.3119 - accuracy: 0.5420 - val_loss: 1.4929 - val_accuracy: 0.4750\n",
      "Epoch 11/50\n",
      "49/49 [==============================] - 3s 64ms/step - loss: 1.2843 - accuracy: 0.5518 - val_loss: 1.4843 - val_accuracy: 0.4813\n",
      "Epoch 12/50\n",
      "49/49 [==============================] - 3s 62ms/step - loss: 1.2566 - accuracy: 0.5640 - val_loss: 1.4786 - val_accuracy: 0.4791\n",
      "Epoch 13/50\n",
      "49/49 [==============================] - 3s 64ms/step - loss: 1.2304 - accuracy: 0.5732 - val_loss: 1.4680 - val_accuracy: 0.4871\n",
      "Epoch 14/50\n",
      "49/49 [==============================] - 3s 64ms/step - loss: 1.2063 - accuracy: 0.5801 - val_loss: 1.4733 - val_accuracy: 0.4812\n",
      "Epoch 15/50\n",
      "49/49 [==============================] - 3s 62ms/step - loss: 1.1839 - accuracy: 0.5900 - val_loss: 1.4600 - val_accuracy: 0.4892\n",
      "Epoch 16/50\n",
      "49/49 [==============================] - 3s 66ms/step - loss: 1.1583 - accuracy: 0.5995 - val_loss: 1.4607 - val_accuracy: 0.4902\n",
      "Epoch 17/50\n",
      "49/49 [==============================] - 3s 67ms/step - loss: 1.1358 - accuracy: 0.6077 - val_loss: 1.4634 - val_accuracy: 0.4893\n",
      "Epoch 18/50\n",
      "49/49 [==============================] - 3s 62ms/step - loss: 1.1134 - accuracy: 0.6171 - val_loss: 1.4499 - val_accuracy: 0.4933\n",
      "Epoch 19/50\n",
      "49/49 [==============================] - 3s 67ms/step - loss: 1.0909 - accuracy: 0.6245 - val_loss: 1.4562 - val_accuracy: 0.4946\n",
      "Epoch 20/50\n",
      "49/49 [==============================] - 3s 64ms/step - loss: 1.0690 - accuracy: 0.6330 - val_loss: 1.4564 - val_accuracy: 0.4943\n",
      "Epoch 21/50\n",
      "49/49 [==============================] - 3s 65ms/step - loss: 1.0473 - accuracy: 0.6404 - val_loss: 1.4589 - val_accuracy: 0.4904\n",
      "Epoch 22/50\n",
      "49/49 [==============================] - 3s 62ms/step - loss: 1.0280 - accuracy: 0.6490 - val_loss: 1.4650 - val_accuracy: 0.4906\n",
      "Epoch 23/50\n",
      "49/49 [==============================] - 3s 64ms/step - loss: 1.0039 - accuracy: 0.6567 - val_loss: 1.4556 - val_accuracy: 0.4961\n",
      "Epoch 24/50\n",
      "49/49 [==============================] - 3s 62ms/step - loss: 0.9872 - accuracy: 0.6651 - val_loss: 1.4688 - val_accuracy: 0.4933\n",
      "Epoch 25/50\n",
      "49/49 [==============================] - 3s 66ms/step - loss: 0.9651 - accuracy: 0.6749 - val_loss: 1.4634 - val_accuracy: 0.4966\n",
      "Epoch 26/50\n",
      "49/49 [==============================] - 3s 63ms/step - loss: 0.9436 - accuracy: 0.6827 - val_loss: 1.4923 - val_accuracy: 0.4824\n",
      "Epoch 27/50\n",
      "49/49 [==============================] - 3s 62ms/step - loss: 0.9248 - accuracy: 0.6883 - val_loss: 1.4725 - val_accuracy: 0.5017\n",
      "Epoch 28/50\n",
      "49/49 [==============================] - 3s 64ms/step - loss: 0.9046 - accuracy: 0.6992 - val_loss: 1.4804 - val_accuracy: 0.4937\n",
      "Epoch 29/50\n",
      "49/49 [==============================] - 3s 64ms/step - loss: 0.8857 - accuracy: 0.7058 - val_loss: 1.4884 - val_accuracy: 0.4972\n",
      "Epoch 30/50\n",
      "49/49 [==============================] - 3s 62ms/step - loss: 0.8662 - accuracy: 0.7136 - val_loss: 1.4757 - val_accuracy: 0.5004\n",
      "Epoch 31/50\n",
      "49/49 [==============================] - 3s 65ms/step - loss: 0.8442 - accuracy: 0.7215 - val_loss: 1.4907 - val_accuracy: 0.4958\n",
      "Epoch 32/50\n",
      "49/49 [==============================] - 3s 63ms/step - loss: 0.8285 - accuracy: 0.7259 - val_loss: 1.4926 - val_accuracy: 0.4947\n",
      "Epoch 33/50\n",
      "49/49 [==============================] - 3s 64ms/step - loss: 0.8078 - accuracy: 0.7350 - val_loss: 1.4956 - val_accuracy: 0.5029\n",
      "Epoch 34/50\n",
      "49/49 [==============================] - 3s 64ms/step - loss: 0.7877 - accuracy: 0.7434 - val_loss: 1.5124 - val_accuracy: 0.5006\n",
      "Epoch 35/50\n",
      "49/49 [==============================] - 3s 64ms/step - loss: 0.7700 - accuracy: 0.7523 - val_loss: 1.5040 - val_accuracy: 0.4965\n",
      "Epoch 36/50\n",
      "49/49 [==============================] - 3s 63ms/step - loss: 0.7499 - accuracy: 0.7588 - val_loss: 1.5408 - val_accuracy: 0.4945\n",
      "Epoch 37/50\n",
      "49/49 [==============================] - 3s 66ms/step - loss: 0.7313 - accuracy: 0.7657 - val_loss: 1.5327 - val_accuracy: 0.4971\n",
      "Epoch 38/50\n",
      "49/49 [==============================] - 3s 64ms/step - loss: 0.7136 - accuracy: 0.7740 - val_loss: 1.5323 - val_accuracy: 0.5006\n",
      "Epoch 39/50\n",
      "49/49 [==============================] - 3s 67ms/step - loss: 0.6932 - accuracy: 0.7814 - val_loss: 1.5595 - val_accuracy: 0.4933\n",
      "Epoch 40/50\n",
      "49/49 [==============================] - 3s 68ms/step - loss: 0.6760 - accuracy: 0.7874 - val_loss: 1.5651 - val_accuracy: 0.4906\n",
      "Epoch 41/50\n",
      "49/49 [==============================] - 3s 63ms/step - loss: 0.6582 - accuracy: 0.7952 - val_loss: 1.5709 - val_accuracy: 0.4985\n",
      "Epoch 42/50\n",
      "49/49 [==============================] - 3s 64ms/step - loss: 0.6405 - accuracy: 0.8021 - val_loss: 1.5630 - val_accuracy: 0.4991\n",
      "Epoch 43/50\n",
      "49/49 [==============================] - 3s 64ms/step - loss: 0.6207 - accuracy: 0.8112 - val_loss: 1.5933 - val_accuracy: 0.4961\n",
      "Epoch 44/50\n",
      "49/49 [==============================] - 3s 65ms/step - loss: 0.6053 - accuracy: 0.8173 - val_loss: 1.6126 - val_accuracy: 0.4950\n",
      "Epoch 45/50\n",
      "49/49 [==============================] - 3s 66ms/step - loss: 0.5884 - accuracy: 0.8213 - val_loss: 1.6121 - val_accuracy: 0.4916\n",
      "Epoch 46/50\n",
      "49/49 [==============================] - 3s 62ms/step - loss: 0.5700 - accuracy: 0.8310 - val_loss: 1.6146 - val_accuracy: 0.4901\n",
      "Epoch 47/50\n",
      "49/49 [==============================] - 3s 64ms/step - loss: 0.5534 - accuracy: 0.8365 - val_loss: 1.6376 - val_accuracy: 0.4941\n",
      "Epoch 48/50\n",
      "49/49 [==============================] - 3s 64ms/step - loss: 0.5370 - accuracy: 0.8427 - val_loss: 1.6498 - val_accuracy: 0.4898\n"
     ]
    },
    {
     "name": "stdout",
     "output_type": "stream",
     "text": [
      "Epoch 49/50\n",
      "49/49 [==============================] - 3s 64ms/step - loss: 0.5189 - accuracy: 0.8510 - val_loss: 1.6606 - val_accuracy: 0.4915\n",
      "Epoch 50/50\n",
      "49/49 [==============================] - 3s 62ms/step - loss: 0.5035 - accuracy: 0.8576 - val_loss: 1.6679 - val_accuracy: 0.4940\n",
      "313/313 [==============================] - 1s 2ms/step - loss: 1.6679 - accuracy: 0.4940\n"
     ]
    }
   ],
   "source": [
    "results = {}\n",
    "\"\"\"Code Here\n",
    "撰寫你的訓練流程並將結果用 dictionary 紀錄\n",
    "\"\"\"\n",
    "model = build_mlp(input_shape=x_train.shape[1:])\n",
    "model.summary()\n",
    "optimizer = keras.optimizers.SGD(lr=LEARNING_RATE, nesterov=True, momentum=MOMENTUM)\n",
    "model.compile(loss=\"categorical_crossentropy\", metrics=[\"accuracy\"], optimizer=optimizer)\n",
    "\n",
    "model.fit(x_train, y_train, \n",
    "          epochs=EPOCHS, \n",
    "          batch_size=BATCH_SIZE, \n",
    "          validation_data=(x_test, y_test), \n",
    "          shuffle=True,\n",
    "          callbacks=[model_ckpt]\n",
    "         )\n",
    "\n",
    "# Collect results\n",
    "train_loss = model.history.history[\"loss\"]\n",
    "valid_loss = model.history.history[\"val_loss\"]\n",
    "train_acc = model.history.history[\"accuracy\"]\n",
    "valid_acc = model.history.history[\"val_accuracy\"]\n",
    "\n",
    "# Load back\n",
    "model = keras.models.load_model(\"./tmp.h5\")\n",
    "loss_loadback, acc_loadback = model.evaluate(x_test, y_test)"
   ]
  },
  {
   "cell_type": "code",
   "execution_count": 70,
   "metadata": {
    "scrolled": true
   },
   "outputs": [
    {
     "data": {
      "image/png": "[encoded data removed]",
      "text/plain": [
       "<Figure size 432x288 with 1 Axes>"
      ]
     },
     "metadata": {
      "needs_background": "light"
     },
     "output_type": "display_data"
    },
    {
     "data": {
      "image/png": "[encoded data removed]",
      "text/plain": [
       "<Figure size 432x288 with 1 Axes>"
      ]
     },
     "metadata": {
      "needs_background": "light"
     },
     "output_type": "display_data"
    }
   ],
   "source": [
    "import matplotlib.pyplot as plt\n",
    "%matplotlib inline\n",
    "\"\"\"Code Here\n",
    "將結果繪出\n",
    "\"\"\"\n",
    "\n",
    "plt.plot(range(len(train_loss)), train_loss, label=\"train loss\")\n",
    "plt.plot(range(len(valid_loss)), valid_loss, label=\"valid loss\")\n",
    "plt.hlines(y=loss_loadback, xmin=0, xmax=len(train_loss), colors='r', linestyles='--')\n",
    "plt.legend()\n",
    "plt.title(\"Loss\")\n",
    "plt.show()\n",
    "\n",
    "plt.plot(range(len(train_acc)), train_acc, label=\"train accuracy\")\n",
    "plt.plot(range(len(valid_acc)), valid_acc, label=\"valid accuracy\")\n",
    "plt.hlines(y=acc_loadback, xmin=0, xmax=len(train_loss), colors='r', linestyles='--')\n",
    "plt.legend()\n",
    "plt.title(\"Accuracy\")\n",
    "plt.show()"
   ]
  },
  {
   "cell_type": "markdown",
   "metadata": {},
   "source": [
    "## save_best_only:True"
   ]
  },
  {
   "cell_type": "code",
   "execution_count": 71,
   "metadata": {},
   "outputs": [],
   "source": [
    "# 載入 Callbacks\n",
    "\"\"\"Code Here\n",
    "設定 callbacks: model checkpoint\n",
    "\"\"\"\n",
    "from keras.callbacks import ModelCheckpoint\n",
    "\n",
    "model_ckpt = ModelCheckpoint(filepath=\"./tmp2.h5\", \n",
    "                             monitor=\"val_loss\", \n",
    "                             save_best_only=True)"
   ]
  },
  {
   "cell_type": "code",
   "execution_count": 72,
   "metadata": {},
   "outputs": [
    {
     "name": "stdout",
     "output_type": "stream",
     "text": [
      "Model: \"functional_25\"\n",
      "_________________________________________________________________\n",
      "Layer (type)                 Output Shape              Param #   \n",
      "=================================================================\n",
      "input_14 (InputLayer)        [(None, 3072)]            0         \n",
      "_________________________________________________________________\n",
      "hidden_layer1 (Dense)        (None, 512)               1573376   \n",
      "_________________________________________________________________\n",
      "batch_normalization_36 (Batc (None, 512)               2048      \n",
      "_________________________________________________________________\n",
      "hidden_layer2 (Dense)        (None, 256)               131328    \n",
      "_________________________________________________________________\n",
      "batch_normalization_37 (Batc (None, 256)               1024      \n",
      "_________________________________________________________________\n",
      "hidden_layer3 (Dense)        (None, 128)               32896     \n",
      "_________________________________________________________________\n",
      "batch_normalization_38 (Batc (None, 128)               512       \n",
      "_________________________________________________________________\n",
      "output (Dense)               (None, 10)                1290      \n",
      "=================================================================\n",
      "Total params: 1,742,474\n",
      "Trainable params: 1,740,682\n",
      "Non-trainable params: 1,792\n",
      "_________________________________________________________________\n",
      "Epoch 1/50\n",
      "49/49 [==============================] - 3s 70ms/step - loss: 2.2052 - accuracy: 0.2685 - val_loss: 2.1068 - val_accuracy: 0.2227\n",
      "Epoch 2/50\n",
      "49/49 [==============================] - 3s 68ms/step - loss: 1.7494 - accuracy: 0.3908 - val_loss: 1.9687 - val_accuracy: 0.2955\n",
      "Epoch 3/50\n",
      "49/49 [==============================] - 3s 68ms/step - loss: 1.6205 - accuracy: 0.4333 - val_loss: 1.8308 - val_accuracy: 0.3627\n",
      "Epoch 4/50\n",
      "49/49 [==============================] - 4s 73ms/step - loss: 1.5470 - accuracy: 0.4596 - val_loss: 1.7223 - val_accuracy: 0.4034\n",
      "Epoch 5/50\n",
      "49/49 [==============================] - 3s 69ms/step - loss: 1.4895 - accuracy: 0.4775 - val_loss: 1.6357 - val_accuracy: 0.4315\n",
      "Epoch 6/50\n",
      "49/49 [==============================] - 3s 69ms/step - loss: 1.4425 - accuracy: 0.4969 - val_loss: 1.5869 - val_accuracy: 0.4425\n",
      "Epoch 7/50\n",
      "49/49 [==============================] - 3s 68ms/step - loss: 1.4007 - accuracy: 0.5120 - val_loss: 1.5519 - val_accuracy: 0.4534\n",
      "Epoch 8/50\n",
      "49/49 [==============================] - 3s 68ms/step - loss: 1.3655 - accuracy: 0.5230 - val_loss: 1.5306 - val_accuracy: 0.4625\n",
      "Epoch 9/50\n",
      "49/49 [==============================] - 3s 70ms/step - loss: 1.3332 - accuracy: 0.5348 - val_loss: 1.5230 - val_accuracy: 0.4655\n",
      "Epoch 10/50\n",
      "49/49 [==============================] - 3s 68ms/step - loss: 1.3009 - accuracy: 0.5462 - val_loss: 1.4976 - val_accuracy: 0.4751\n",
      "Epoch 11/50\n",
      "49/49 [==============================] - 3s 69ms/step - loss: 1.2720 - accuracy: 0.5561 - val_loss: 1.4896 - val_accuracy: 0.4724\n",
      "Epoch 12/50\n",
      "49/49 [==============================] - 3s 65ms/step - loss: 1.2452 - accuracy: 0.5653 - val_loss: 1.4964 - val_accuracy: 0.4709\n",
      "Epoch 13/50\n",
      "49/49 [==============================] - 4s 72ms/step - loss: 1.2169 - accuracy: 0.5766 - val_loss: 1.4874 - val_accuracy: 0.4760\n",
      "Epoch 14/50\n",
      "49/49 [==============================] - 3s 68ms/step - loss: 1.1926 - accuracy: 0.5866 - val_loss: 1.4702 - val_accuracy: 0.4829\n",
      "Epoch 15/50\n",
      "49/49 [==============================] - 3s 69ms/step - loss: 1.1682 - accuracy: 0.5958 - val_loss: 1.4645 - val_accuracy: 0.4883\n",
      "Epoch 16/50\n",
      "49/49 [==============================] - 3s 68ms/step - loss: 1.1442 - accuracy: 0.6049 - val_loss: 1.4640 - val_accuracy: 0.4840\n",
      "Epoch 17/50\n",
      "49/49 [==============================] - 3s 66ms/step - loss: 1.1186 - accuracy: 0.6135 - val_loss: 1.4616 - val_accuracy: 0.4881\n",
      "Epoch 18/50\n",
      "49/49 [==============================] - 3s 61ms/step - loss: 1.0963 - accuracy: 0.6217 - val_loss: 1.4694 - val_accuracy: 0.4856\n",
      "Epoch 19/50\n",
      "49/49 [==============================] - 3s 62ms/step - loss: 1.0763 - accuracy: 0.6305 - val_loss: 1.4636 - val_accuracy: 0.4886\n",
      "Epoch 20/50\n",
      "49/49 [==============================] - 3s 65ms/step - loss: 1.0519 - accuracy: 0.6397 - val_loss: 1.4506 - val_accuracy: 0.4927\n",
      "Epoch 21/50\n",
      "49/49 [==============================] - 3s 62ms/step - loss: 1.0297 - accuracy: 0.6490 - val_loss: 1.4763 - val_accuracy: 0.4919\n",
      "Epoch 22/50\n",
      "49/49 [==============================] - 3s 62ms/step - loss: 1.0079 - accuracy: 0.6568 - val_loss: 1.4743 - val_accuracy: 0.4858\n",
      "Epoch 23/50\n",
      "49/49 [==============================] - 3s 62ms/step - loss: 0.9889 - accuracy: 0.6621 - val_loss: 1.4689 - val_accuracy: 0.4878\n",
      "Epoch 24/50\n",
      "49/49 [==============================] - 3s 63ms/step - loss: 0.9699 - accuracy: 0.6729 - val_loss: 1.4741 - val_accuracy: 0.4904\n",
      "Epoch 25/50\n",
      "49/49 [==============================] - 3s 66ms/step - loss: 0.9457 - accuracy: 0.6801 - val_loss: 1.4821 - val_accuracy: 0.4884\n",
      "Epoch 26/50\n",
      "49/49 [==============================] - 3s 64ms/step - loss: 0.9265 - accuracy: 0.6880 - val_loss: 1.4725 - val_accuracy: 0.4955\n",
      "Epoch 27/50\n",
      "49/49 [==============================] - 3s 63ms/step - loss: 0.9062 - accuracy: 0.6966 - val_loss: 1.4727 - val_accuracy: 0.4964\n",
      "Epoch 28/50\n",
      "49/49 [==============================] - 3s 63ms/step - loss: 0.8850 - accuracy: 0.7051 - val_loss: 1.4861 - val_accuracy: 0.4885\n",
      "Epoch 29/50\n",
      "49/49 [==============================] - 3s 65ms/step - loss: 0.8649 - accuracy: 0.7143 - val_loss: 1.4799 - val_accuracy: 0.4941\n",
      "Epoch 30/50\n",
      "49/49 [==============================] - 3s 64ms/step - loss: 0.8450 - accuracy: 0.7212 - val_loss: 1.4964 - val_accuracy: 0.4901\n",
      "Epoch 31/50\n",
      "49/49 [==============================] - 3s 63ms/step - loss: 0.8252 - accuracy: 0.7284 - val_loss: 1.5218 - val_accuracy: 0.4912\n",
      "Epoch 32/50\n",
      "49/49 [==============================] - 3s 63ms/step - loss: 0.8063 - accuracy: 0.7364 - val_loss: 1.5038 - val_accuracy: 0.4926\n",
      "Epoch 33/50\n",
      "49/49 [==============================] - 3s 63ms/step - loss: 0.7879 - accuracy: 0.7435 - val_loss: 1.5128 - val_accuracy: 0.4936\n",
      "Epoch 34/50\n",
      "49/49 [==============================] - 3s 63ms/step - loss: 0.7662 - accuracy: 0.7534 - val_loss: 1.5263 - val_accuracy: 0.4929\n",
      "Epoch 35/50\n",
      "49/49 [==============================] - 3s 63ms/step - loss: 0.7479 - accuracy: 0.7592 - val_loss: 1.5329 - val_accuracy: 0.4898\n",
      "Epoch 36/50\n",
      "49/49 [==============================] - 3s 63ms/step - loss: 0.7280 - accuracy: 0.7680 - val_loss: 1.5318 - val_accuracy: 0.4943\n",
      "Epoch 37/50\n",
      "49/49 [==============================] - 3s 63ms/step - loss: 0.7099 - accuracy: 0.7746 - val_loss: 1.5651 - val_accuracy: 0.4868\n",
      "Epoch 38/50\n",
      "49/49 [==============================] - 3s 63ms/step - loss: 0.6906 - accuracy: 0.7824 - val_loss: 1.5625 - val_accuracy: 0.4952\n",
      "Epoch 39/50\n",
      "49/49 [==============================] - 3s 62ms/step - loss: 0.6733 - accuracy: 0.7887 - val_loss: 1.5615 - val_accuracy: 0.4973\n",
      "Epoch 40/50\n",
      "49/49 [==============================] - 3s 62ms/step - loss: 0.6538 - accuracy: 0.7967 - val_loss: 1.5840 - val_accuracy: 0.4894\n",
      "Epoch 41/50\n",
      "49/49 [==============================] - 3s 63ms/step - loss: 0.6347 - accuracy: 0.8036 - val_loss: 1.5798 - val_accuracy: 0.4949\n",
      "Epoch 42/50\n",
      "49/49 [==============================] - 3s 62ms/step - loss: 0.6182 - accuracy: 0.8110 - val_loss: 1.6052 - val_accuracy: 0.4902\n",
      "Epoch 43/50\n",
      "49/49 [==============================] - 3s 64ms/step - loss: 0.6024 - accuracy: 0.8170 - val_loss: 1.5985 - val_accuracy: 0.4877\n",
      "Epoch 44/50\n",
      "49/49 [==============================] - 3s 63ms/step - loss: 0.5823 - accuracy: 0.8258 - val_loss: 1.6351 - val_accuracy: 0.4857\n",
      "Epoch 45/50\n",
      "49/49 [==============================] - 3s 63ms/step - loss: 0.5667 - accuracy: 0.8311 - val_loss: 1.6437 - val_accuracy: 0.4856\n",
      "Epoch 46/50\n",
      "49/49 [==============================] - 3s 64ms/step - loss: 0.5493 - accuracy: 0.8388 - val_loss: 1.6459 - val_accuracy: 0.4925\n",
      "Epoch 47/50\n",
      "49/49 [==============================] - 3s 63ms/step - loss: 0.5310 - accuracy: 0.8470 - val_loss: 1.6625 - val_accuracy: 0.4863\n",
      "Epoch 48/50\n",
      "49/49 [==============================] - 3s 63ms/step - loss: 0.5146 - accuracy: 0.8518 - val_loss: 1.6663 - val_accuracy: 0.4898\n"
     ]
    },
    {
     "name": "stdout",
     "output_type": "stream",
     "text": [
      "Epoch 49/50\n",
      "49/49 [==============================] - 3s 64ms/step - loss: 0.4984 - accuracy: 0.8597 - val_loss: 1.6978 - val_accuracy: 0.4872\n",
      "Epoch 50/50\n",
      "49/49 [==============================] - 3s 63ms/step - loss: 0.4815 - accuracy: 0.8655 - val_loss: 1.7045 - val_accuracy: 0.4891\n",
      "313/313 [==============================] - 1s 2ms/step - loss: 1.4506 - accuracy: 0.4927\n"
     ]
    }
   ],
   "source": [
    "results = {}\n",
    "\"\"\"Code Here\n",
    "撰寫你的訓練流程並將結果用 dictionary 紀錄\n",
    "\"\"\"\n",
    "model = build_mlp(input_shape=x_train.shape[1:])\n",
    "model.summary()\n",
    "optimizer = keras.optimizers.SGD(lr=LEARNING_RATE, nesterov=True, momentum=MOMENTUM)\n",
    "model.compile(loss=\"categorical_crossentropy\", metrics=[\"accuracy\"], optimizer=optimizer)\n",
    "\n",
    "model.fit(x_train, y_train, \n",
    "          epochs=EPOCHS, \n",
    "          batch_size=BATCH_SIZE, \n",
    "          validation_data=(x_test, y_test), \n",
    "          shuffle=True,\n",
    "          callbacks=[model_ckpt]\n",
    "         )\n",
    "\n",
    "# Collect results\n",
    "train_loss = model.history.history[\"loss\"]\n",
    "valid_loss = model.history.history[\"val_loss\"]\n",
    "train_acc = model.history.history[\"accuracy\"]\n",
    "valid_acc = model.history.history[\"val_accuracy\"]\n",
    "\n",
    "# Load back\n",
    "model = keras.models.load_model(\"./tmp2.h5\")\n",
    "loss_loadback, acc_loadback = model.evaluate(x_test, y_test)"
   ]
  },
  {
   "cell_type": "code",
   "execution_count": 73,
   "metadata": {},
   "outputs": [
    {
     "data": {
      "image/png": "[encoded data removed]",
      "text/plain": [
       "<Figure size 432x288 with 1 Axes>"
      ]
     },
     "metadata": {
      "needs_background": "light"
     },
     "output_type": "display_data"
    },
    {
     "data": {
      "image/png": "[encoded data removed]",
      "text/plain": [
       "<Figure size 432x288 with 1 Axes>"
      ]
     },
     "metadata": {
      "needs_background": "light"
     },
     "output_type": "display_data"
    }
   ],
   "source": [
    "import matplotlib.pyplot as plt\n",
    "%matplotlib inline\n",
    "\"\"\"Code Here\n",
    "將結果繪出\n",
    "\"\"\"\n",
    "\n",
    "plt.plot(range(len(train_loss)), train_loss, label=\"train loss\")\n",
    "plt.plot(range(len(valid_loss)), valid_loss, label=\"valid loss\")\n",
    "plt.hlines(y=loss_loadback, xmin=0, xmax=len(train_loss), colors='r', linestyles='--')\n",
    "plt.legend()\n",
    "plt.title(\"Loss\")\n",
    "plt.show()\n",
    "\n",
    "plt.plot(range(len(train_acc)), train_acc, label=\"train accuracy\")\n",
    "plt.plot(range(len(valid_acc)), valid_acc, label=\"valid accuracy\")\n",
    "plt.hlines(y=acc_loadback, xmin=0, xmax=len(train_loss), colors='r', linestyles='--')\n",
    "plt.legend()\n",
    "plt.title(\"Accuracy\")\n",
    "plt.show()"
   ]
  },
  {
   "cell_type": "markdown",
   "metadata": {},
   "source": [
    "## save_weights_only:True"
   ]
  },
  {
   "cell_type": "code",
   "execution_count": 78,
   "metadata": {},
   "outputs": [],
   "source": [
    "# 載入 Callbacks\n",
    "\"\"\"Code Here\n",
    "設定 callbacks: model checkpoint\n",
    "\"\"\"\n",
    "from keras.callbacks import ModelCheckpoint\n",
    "\n",
    "model_ckpt = ModelCheckpoint(filepath=\"./tmp_weight.h5\", \n",
    "                             monitor=\"val_loss\", \n",
    "                             save_weights_only=True)"
   ]
  },
  {
   "cell_type": "code",
   "execution_count": 79,
   "metadata": {},
   "outputs": [
    {
     "name": "stdout",
     "output_type": "stream",
     "text": [
      "Model: \"functional_31\"\n",
      "_________________________________________________________________\n",
      "Layer (type)                 Output Shape              Param #   \n",
      "=================================================================\n",
      "input_17 (InputLayer)        [(None, 3072)]            0         \n",
      "_________________________________________________________________\n",
      "hidden_layer1 (Dense)        (None, 512)               1573376   \n",
      "_________________________________________________________________\n",
      "batch_normalization_45 (Batc (None, 512)               2048      \n",
      "_________________________________________________________________\n",
      "hidden_layer2 (Dense)        (None, 256)               131328    \n",
      "_________________________________________________________________\n",
      "batch_normalization_46 (Batc (None, 256)               1024      \n",
      "_________________________________________________________________\n",
      "hidden_layer3 (Dense)        (None, 128)               32896     \n",
      "_________________________________________________________________\n",
      "batch_normalization_47 (Batc (None, 128)               512       \n",
      "_________________________________________________________________\n",
      "output (Dense)               (None, 10)                1290      \n",
      "=================================================================\n",
      "Total params: 1,742,474\n",
      "Trainable params: 1,740,682\n",
      "Non-trainable params: 1,792\n",
      "_________________________________________________________________\n",
      "Epoch 1/50\n",
      "49/49 [==============================] - 3s 59ms/step - loss: 2.2315 - accuracy: 0.2659 - val_loss: 2.1100 - val_accuracy: 0.1927\n",
      "Epoch 2/50\n",
      "49/49 [==============================] - 3s 55ms/step - loss: 1.7495 - accuracy: 0.3919 - val_loss: 1.9268 - val_accuracy: 0.3325\n",
      "Epoch 3/50\n",
      "49/49 [==============================] - 3s 54ms/step - loss: 1.6216 - accuracy: 0.4360 - val_loss: 1.8178 - val_accuracy: 0.3718\n",
      "Epoch 4/50\n",
      "49/49 [==============================] - 3s 52ms/step - loss: 1.5473 - accuracy: 0.4613 - val_loss: 1.7309 - val_accuracy: 0.3956\n",
      "Epoch 5/50\n",
      "49/49 [==============================] - 3s 57ms/step - loss: 1.4918 - accuracy: 0.4801 - val_loss: 1.6471 - val_accuracy: 0.4225\n",
      "Epoch 6/50\n",
      "49/49 [==============================] - 3s 56ms/step - loss: 1.4466 - accuracy: 0.4969 - val_loss: 1.5972 - val_accuracy: 0.4415\n",
      "Epoch 7/50\n",
      "49/49 [==============================] - 3s 55ms/step - loss: 1.4070 - accuracy: 0.5119 - val_loss: 1.5719 - val_accuracy: 0.4434\n",
      "Epoch 8/50\n",
      "49/49 [==============================] - 3s 56ms/step - loss: 1.3716 - accuracy: 0.5221 - val_loss: 1.5358 - val_accuracy: 0.4628\n",
      "Epoch 9/50\n",
      "49/49 [==============================] - 3s 56ms/step - loss: 1.3385 - accuracy: 0.5351 - val_loss: 1.5107 - val_accuracy: 0.4662\n",
      "Epoch 10/50\n",
      "49/49 [==============================] - 3s 57ms/step - loss: 1.3100 - accuracy: 0.5463 - val_loss: 1.4990 - val_accuracy: 0.4677\n",
      "Epoch 11/50\n",
      "49/49 [==============================] - 3s 54ms/step - loss: 1.2814 - accuracy: 0.5559 - val_loss: 1.5065 - val_accuracy: 0.4681\n",
      "Epoch 12/50\n",
      "49/49 [==============================] - 3s 56ms/step - loss: 1.2534 - accuracy: 0.5661 - val_loss: 1.4869 - val_accuracy: 0.4795\n",
      "Epoch 13/50\n",
      "49/49 [==============================] - 3s 57ms/step - loss: 1.2278 - accuracy: 0.5751 - val_loss: 1.4776 - val_accuracy: 0.4816\n",
      "Epoch 14/50\n",
      "49/49 [==============================] - 3s 55ms/step - loss: 1.2027 - accuracy: 0.5848 - val_loss: 1.4797 - val_accuracy: 0.4811\n",
      "Epoch 15/50\n",
      "49/49 [==============================] - 3s 54ms/step - loss: 1.1799 - accuracy: 0.5938 - val_loss: 1.4627 - val_accuracy: 0.4848\n",
      "Epoch 16/50\n",
      "49/49 [==============================] - 3s 66ms/step - loss: 1.1554 - accuracy: 0.6045 - val_loss: 1.4697 - val_accuracy: 0.4884\n",
      "Epoch 17/50\n",
      "49/49 [==============================] - 4s 75ms/step - loss: 1.1325 - accuracy: 0.6105 - val_loss: 1.4947 - val_accuracy: 0.4800\n",
      "Epoch 18/50\n",
      "49/49 [==============================] - 3s 68ms/step - loss: 1.1114 - accuracy: 0.6189 - val_loss: 1.4552 - val_accuracy: 0.4925\n",
      "Epoch 19/50\n",
      "49/49 [==============================] - 3s 68ms/step - loss: 1.0865 - accuracy: 0.6285 - val_loss: 1.4499 - val_accuracy: 0.4870\n",
      "Epoch 20/50\n",
      "49/49 [==============================] - 4s 72ms/step - loss: 1.0659 - accuracy: 0.6369 - val_loss: 1.4683 - val_accuracy: 0.4869\n",
      "Epoch 21/50\n",
      "49/49 [==============================] - 3s 66ms/step - loss: 1.0465 - accuracy: 0.6417 - val_loss: 1.4605 - val_accuracy: 0.4888\n",
      "Epoch 22/50\n",
      "49/49 [==============================] - 3s 66ms/step - loss: 1.0276 - accuracy: 0.6511 - val_loss: 1.4726 - val_accuracy: 0.4892\n",
      "Epoch 23/50\n",
      "49/49 [==============================] - 3s 65ms/step - loss: 1.0030 - accuracy: 0.6605 - val_loss: 1.4549 - val_accuracy: 0.4948\n",
      "Epoch 24/50\n",
      "49/49 [==============================] - 3s 65ms/step - loss: 0.9819 - accuracy: 0.6690 - val_loss: 1.4603 - val_accuracy: 0.4918\n",
      "Epoch 25/50\n",
      "49/49 [==============================] - 3s 65ms/step - loss: 0.9624 - accuracy: 0.6755 - val_loss: 1.4682 - val_accuracy: 0.4909\n",
      "Epoch 26/50\n",
      "49/49 [==============================] - 3s 66ms/step - loss: 0.9418 - accuracy: 0.6847 - val_loss: 1.4748 - val_accuracy: 0.4937\n",
      "Epoch 27/50\n",
      "49/49 [==============================] - 3s 68ms/step - loss: 0.9218 - accuracy: 0.6924 - val_loss: 1.4641 - val_accuracy: 0.4935\n",
      "Epoch 28/50\n",
      "49/49 [==============================] - 3s 66ms/step - loss: 0.9002 - accuracy: 0.7013 - val_loss: 1.4691 - val_accuracy: 0.4927\n",
      "Epoch 29/50\n",
      "49/49 [==============================] - 4s 74ms/step - loss: 0.8830 - accuracy: 0.7054 - val_loss: 1.4858 - val_accuracy: 0.4925\n",
      "Epoch 30/50\n",
      "49/49 [==============================] - 3s 69ms/step - loss: 0.8620 - accuracy: 0.7151 - val_loss: 1.4817 - val_accuracy: 0.4932\n",
      "Epoch 31/50\n",
      "49/49 [==============================] - 3s 68ms/step - loss: 0.8422 - accuracy: 0.7230 - val_loss: 1.4890 - val_accuracy: 0.4880\n",
      "Epoch 32/50\n",
      "49/49 [==============================] - 3s 66ms/step - loss: 0.8238 - accuracy: 0.7307 - val_loss: 1.4907 - val_accuracy: 0.4913\n",
      "Epoch 33/50\n",
      "49/49 [==============================] - 3s 66ms/step - loss: 0.8033 - accuracy: 0.7381 - val_loss: 1.4925 - val_accuracy: 0.4974\n",
      "Epoch 34/50\n",
      "49/49 [==============================] - 3s 67ms/step - loss: 0.7834 - accuracy: 0.7473 - val_loss: 1.5042 - val_accuracy: 0.4929\n",
      "Epoch 35/50\n",
      "49/49 [==============================] - 3s 68ms/step - loss: 0.7634 - accuracy: 0.7546 - val_loss: 1.5191 - val_accuracy: 0.4948\n",
      "Epoch 36/50\n",
      "49/49 [==============================] - 3s 67ms/step - loss: 0.7473 - accuracy: 0.7609 - val_loss: 1.5251 - val_accuracy: 0.4940\n",
      "Epoch 37/50\n",
      "49/49 [==============================] - 3s 66ms/step - loss: 0.7261 - accuracy: 0.7707 - val_loss: 1.5309 - val_accuracy: 0.4897\n",
      "Epoch 38/50\n",
      "49/49 [==============================] - 3s 71ms/step - loss: 0.7092 - accuracy: 0.7759 - val_loss: 1.5340 - val_accuracy: 0.4906\n",
      "Epoch 39/50\n",
      "49/49 [==============================] - 3s 63ms/step - loss: 0.6883 - accuracy: 0.7847 - val_loss: 1.5675 - val_accuracy: 0.48766857 - \n",
      "Epoch 40/50\n",
      "49/49 [==============================] - 3s 65ms/step - loss: 0.6717 - accuracy: 0.7923 - val_loss: 1.5595 - val_accuracy: 0.4917\n",
      "Epoch 41/50\n",
      "49/49 [==============================] - 3s 64ms/step - loss: 0.6546 - accuracy: 0.7988 - val_loss: 1.5711 - val_accuracy: 0.4913\n",
      "Epoch 42/50\n",
      "49/49 [==============================] - 3s 63ms/step - loss: 0.6362 - accuracy: 0.8065 - val_loss: 1.5916 - val_accuracy: 0.4926\n",
      "Epoch 43/50\n",
      "49/49 [==============================] - 3s 66ms/step - loss: 0.6182 - accuracy: 0.8109 - val_loss: 1.5980 - val_accuracy: 0.4928\n",
      "Epoch 44/50\n",
      "49/49 [==============================] - 3s 67ms/step - loss: 0.6011 - accuracy: 0.8197 - val_loss: 1.6041 - val_accuracy: 0.4928\n",
      "Epoch 45/50\n",
      "49/49 [==============================] - 3s 65ms/step - loss: 0.5833 - accuracy: 0.8279 - val_loss: 1.6241 - val_accuracy: 0.4945\n",
      "Epoch 46/50\n",
      "49/49 [==============================] - 3s 70ms/step - loss: 0.5634 - accuracy: 0.8349 - val_loss: 1.6322 - val_accuracy: 0.4902\n",
      "Epoch 47/50\n",
      "49/49 [==============================] - 4s 76ms/step - loss: 0.5473 - accuracy: 0.8410 - val_loss: 1.6379 - val_accuracy: 0.4924\n",
      "Epoch 48/50\n",
      "49/49 [==============================] - 3s 66ms/step - loss: 0.5294 - accuracy: 0.8475 - val_loss: 1.6466 - val_accuracy: 0.4887\n"
     ]
    },
    {
     "name": "stdout",
     "output_type": "stream",
     "text": [
      "Epoch 49/50\n",
      "49/49 [==============================] - 3s 67ms/step - loss: 0.5164 - accuracy: 0.8526 - val_loss: 1.6683 - val_accuracy: 0.4886\n",
      "Epoch 50/50\n",
      "49/49 [==============================] - 3s 66ms/step - loss: 0.4988 - accuracy: 0.8600 - val_loss: 1.6775 - val_accuracy: 0.4886\n"
     ]
    }
   ],
   "source": [
    "results = {}\n",
    "\"\"\"Code Here\n",
    "撰寫你的訓練流程並將結果用 dictionary 紀錄\n",
    "\"\"\"\n",
    "model = build_mlp(input_shape=x_train.shape[1:])\n",
    "model.summary()\n",
    "optimizer = keras.optimizers.SGD(lr=LEARNING_RATE, nesterov=True, momentum=MOMENTUM)\n",
    "model.compile(loss=\"categorical_crossentropy\", metrics=[\"accuracy\"], optimizer=optimizer)\n",
    "\n",
    "model.fit(x_train, y_train, \n",
    "          epochs=EPOCHS, \n",
    "          batch_size=BATCH_SIZE, \n",
    "          validation_data=(x_test, y_test), \n",
    "          shuffle=True,\n",
    "          callbacks=[model_ckpt]\n",
    "         )\n",
    "model.save(\"final_model.h5\")\n",
    "model.save_weights(\"model_weights.h5\")\n",
    "# Collect results\n",
    "train_loss = model.history.history[\"loss\"]\n",
    "valid_loss = model.history.history[\"val_loss\"]\n",
    "train_acc = model.history.history[\"accuracy\"]\n",
    "valid_acc = model.history.history[\"val_accuracy\"]\n",
    "\n",
    "pred_final = model.predict(x_test)\n",
    "# Load back\n",
    "model.load_weights(\"./tmp_weight.h5\")\n",
    "#loss_loadback, acc_loadback = model.evaluate(x_test, y_test)\n",
    "pred_loadback = model.predict(x_test)"
   ]
  },
  {
   "cell_type": "code",
   "execution_count": 80,
   "metadata": {},
   "outputs": [
    {
     "data": {
      "text/plain": [
       "'\\nimport matplotlib.pyplot as plt\\n%matplotlib inline\\n\"\"\"Code Here\\n將結果繪出\\n\"\"\"\\n\\nplt.plot(range(len(train_loss)), train_loss, label=\"train loss\")\\nplt.plot(range(len(valid_loss)), valid_loss, label=\"valid loss\")\\nplt.hlines(y=loss_loadback, xmin=0, xmax=len(train_loss), colors=\\'r\\', linestyles=\\'--\\')\\nplt.legend()\\nplt.title(\"Loss\")\\nplt.show()\\n\\nplt.plot(range(len(train_acc)), train_acc, label=\"train accuracy\")\\nplt.plot(range(len(valid_acc)), valid_acc, label=\"valid accuracy\")\\nplt.hlines(y=acc_loadback, xmin=0, xmax=len(train_loss), colors=\\'r\\', linestyles=\\'--\\')\\nplt.legend()\\nplt.title(\"Accuracy\")\\nplt.show()\\n'"
      ]
     },
     "execution_count": 80,
     "metadata": {},
     "output_type": "execute_result"
    }
   ],
   "source": [
    "'''\n",
    "import matplotlib.pyplot as plt\n",
    "%matplotlib inline\n",
    "\"\"\"Code Here\n",
    "將結果繪出\n",
    "\"\"\"\n",
    "\n",
    "plt.plot(range(len(train_loss)), train_loss, label=\"train loss\")\n",
    "plt.plot(range(len(valid_loss)), valid_loss, label=\"valid loss\")\n",
    "plt.hlines(y=loss_loadback, xmin=0, xmax=len(train_loss), colors='r', linestyles='--')\n",
    "plt.legend()\n",
    "plt.title(\"Loss\")\n",
    "plt.show()\n",
    "\n",
    "plt.plot(range(len(train_acc)), train_acc, label=\"train accuracy\")\n",
    "plt.plot(range(len(valid_acc)), valid_acc, label=\"valid accuracy\")\n",
    "plt.hlines(y=acc_loadback, xmin=0, xmax=len(train_loss), colors='r', linestyles='--')\n",
    "plt.legend()\n",
    "plt.title(\"Accuracy\")\n",
    "plt.show()\n",
    "'''"
   ]
  },
  {
   "cell_type": "code",
   "execution_count": 81,
   "metadata": {},
   "outputs": [
    {
     "name": "stdout",
     "output_type": "stream",
     "text": [
      "Accuracy of final weights: 0.489\n",
      "Accuracy of best weights: 0.489\n"
     ]
    }
   ],
   "source": [
    "from sklearn.metrics import accuracy_score\n",
    "\n",
    "final_model_acc = accuracy_score(y_true=y_test.argmax(axis=-1), y_pred=pred_final.argmax(axis=-1))\n",
    "loadback_acc = accuracy_score(y_true=y_test.argmax(axis=-1), y_pred=pred_loadback.argmax(axis=-1))\n",
    "\n",
    "print(\"Accuracy of final weights: %.3f\" % final_model_acc)\n",
    "print(\"Accuracy of best weights: %.3f\" % loadback_acc)"
   ]
  },
  {
   "cell_type": "code",
   "execution_count": 82,
   "metadata": {},
   "outputs": [
    {
     "name": "stdout",
     "output_type": "stream",
     "text": [
      "Accuracy of best weights: 0.100\n",
      "Accuracy of best weights: 0.489\n"
     ]
    }
   ],
   "source": [
    "new_model = build_mlp(input_shape=x_train.shape[1:])\n",
    "new_model_pred = new_model.predict(x_test)\n",
    "new_model_acc = accuracy_score(y_true=y_test.argmax(axis=-1), y_pred=new_model_pred.argmax(axis=-1))\n",
    "print(\"Accuracy of best weights: %.3f\" % new_model_acc)\n",
    "\n",
    "new_model.load_weights(\"./model_weights.h5\")\n",
    "new_model_pred = new_model.predict(x_test)\n",
    "new_model_loadback_acc = accuracy_score(y_true=y_test.argmax(axis=-1), y_pred=new_model_pred.argmax(axis=-1))\n",
    "print(\"Accuracy of best weights: %.3f\" % new_model_loadback_acc)"
   ]
  }
 ],
 "metadata": {
  "kernelspec": {
   "display_name": "Python 3",
   "language": "python",
   "name": "python3"
  },
  "language_info": {
   "codemirror_mode": {
    "name": "ipython",
    "version": 3
   },
   "file_extension": ".py",
   "mimetype": "text/x-python",
   "name": "python",
   "nbconvert_exporter": "python",
   "pygments_lexer": "ipython3",
   "version": "3.7.6"
  }
 },
 "nbformat": 4,
 "nbformat_minor": 2
}
