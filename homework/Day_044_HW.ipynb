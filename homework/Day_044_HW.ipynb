{
 "cells": [
  {
   "cell_type": "markdown",
   "metadata": {},
   "source": [
    "## [作業重點]\n",
    "確保你了解隨機森林模型中每個超參數的意義，並觀察調整超參數對結果的影響"
   ]
  },
  {
   "cell_type": "markdown",
   "metadata": {},
   "source": [
    "## 作業\n",
    "\n",
    "1. 試著調整 RandomForestClassifier(...) 中的參數，並觀察是否會改變結果？\n",
    "2. 改用其他資料集 (boston, wine)，並與回歸模型與決策樹的結果進行比較"
   ]
  },
  {
   "cell_type": "code",
   "execution_count": 49,
   "metadata": {},
   "outputs": [],
   "source": [
    "from sklearn import datasets, metrics\n",
    "from sklearn.ensemble import RandomForestClassifier,RandomForestRegressor\n",
    "from sklearn.model_selection import train_test_split"
   ]
  },
  {
   "cell_type": "code",
   "execution_count": 50,
   "metadata": {},
   "outputs": [],
   "source": [
    "wine = datasets.load_wine()\n",
    "\n",
    "X_train, X_test, y_train, y_test = train_test_split(wine.data, wine.target, test_size=0.2, random_state=7)\n",
    "\n",
    "rdc = RandomForestClassifier(n_estimators=40, criterion=\"gini\", max_features=\"auto\", max_depth=10, min_samples_split=10, min_samples_leaf=1)\n",
    "rdc.fit(X_train, y_train)\n",
    "\n",
    "y_pred = rdc.predict(X_test)"
   ]
  },
  {
   "cell_type": "code",
   "execution_count": 51,
   "metadata": {},
   "outputs": [
    {
     "name": "stdout",
     "output_type": "stream",
     "text": [
      "Accuracy:  1.0\n"
     ]
    }
   ],
   "source": [
    "acc = metrics.accuracy_score(y_test, y_pred)\n",
    "print(\"Accuracy: \", acc)"
   ]
  },
  {
   "cell_type": "code",
   "execution_count": 52,
   "metadata": {},
   "outputs": [
    {
     "name": "stdout",
     "output_type": "stream",
     "text": [
      "['alcohol', 'malic_acid', 'ash', 'alcalinity_of_ash', 'magnesium', 'total_phenols', 'flavanoids', 'nonflavanoid_phenols', 'proanthocyanins', 'color_intensity', 'hue', 'od280/od315_of_diluted_wines', 'proline']\n"
     ]
    }
   ],
   "source": [
    "print(wine.feature_names)"
   ]
  },
  {
   "cell_type": "code",
   "execution_count": 53,
   "metadata": {
    "scrolled": true
   },
   "outputs": [
    {
     "data": {
      "text/plain": [
       "array([[0.        , 0.04166667, 0.95833333],\n",
       "       [0.93214286, 0.06785714, 0.        ],\n",
       "       [0.        , 0.025     , 0.975     ],\n",
       "       [0.        , 0.08764881, 0.91235119],\n",
       "       [0.04916667, 0.81496753, 0.1358658 ],\n",
       "       [0.        , 0.04494048, 0.95505952],\n",
       "       [0.01286301, 0.94713699, 0.04      ],\n",
       "       [0.68443588, 0.31556412, 0.        ],\n",
       "       [0.10677083, 0.84641098, 0.04681818],\n",
       "       [0.05400787, 0.38766338, 0.55832875],\n",
       "       [0.75446429, 0.24553571, 0.        ],\n",
       "       [0.00227273, 0.99772727, 0.        ],\n",
       "       [0.03838287, 0.3433479 , 0.61826923],\n",
       "       [0.018125  , 0.97625   , 0.005625  ],\n",
       "       [0.        , 1.        , 0.        ],\n",
       "       [0.01859217, 0.96015783, 0.02125   ],\n",
       "       [0.17118056, 0.79256944, 0.03625   ],\n",
       "       [0.00227273, 0.16174242, 0.83598485],\n",
       "       [0.95382576, 0.03367424, 0.0125    ],\n",
       "       [0.975     , 0.        , 0.025     ],\n",
       "       [0.18532828, 0.78842172, 0.02625   ],\n",
       "       [0.33035256, 0.58158383, 0.0880636 ],\n",
       "       [0.05552083, 0.92135417, 0.023125  ],\n",
       "       [0.05875   , 0.78416667, 0.15708333],\n",
       "       [0.98555195, 0.01444805, 0.        ],\n",
       "       [0.        , 0.        , 1.        ],\n",
       "       [0.0015625 , 0.9984375 , 0.        ],\n",
       "       [0.025     , 0.01      , 0.965     ],\n",
       "       [0.009375  , 0.2225    , 0.768125  ],\n",
       "       [0.00833333, 0.20480159, 0.78686508],\n",
       "       [0.06340278, 0.91784722, 0.01875   ],\n",
       "       [0.57841036, 0.40908964, 0.0125    ],\n",
       "       [0.03326923, 0.30840201, 0.65832875],\n",
       "       [0.07256944, 0.90186237, 0.02556818],\n",
       "       [0.10195076, 0.89804924, 0.        ],\n",
       "       [0.07596726, 0.8719494 , 0.05208333]])"
      ]
     },
     "execution_count": 53,
     "metadata": {},
     "output_type": "execute_result"
    }
   ],
   "source": [
    "rdc.predict_proba(X_test)"
   ]
  },
  {
   "cell_type": "code",
   "execution_count": 54,
   "metadata": {},
   "outputs": [],
   "source": [
    "boston = datasets.load_boston()\n",
    "\n",
    "X_train, X_test, y_train, y_test = train_test_split(boston.data, boston.target, test_size=0.2, random_state=7)\n",
    "\n",
    "rdf = RandomForestRegressor(n_estimators=40, criterion=\"mae\", max_features=\"auto\", max_depth=10, min_samples_split=10, min_samples_leaf=1)\n",
    "rdf.fit(X_train, y_train)\n",
    "\n",
    "y_pred = rdf.predict(X_test)"
   ]
  },
  {
   "cell_type": "code",
   "execution_count": 55,
   "metadata": {},
   "outputs": [
    {
     "name": "stdout",
     "output_type": "stream",
     "text": [
      "mae:  17.812310600490203\n"
     ]
    }
   ],
   "source": [
    "mae = metrics.mean_squared_error(y_test, y_pred)\n",
    "print(\"mae: \", mae)"
   ]
  },
  {
   "cell_type": "code",
   "execution_count": 56,
   "metadata": {},
   "outputs": [
    {
     "name": "stdout",
     "output_type": "stream",
     "text": [
      "['CRIM' 'ZN' 'INDUS' 'CHAS' 'NOX' 'RM' 'AGE' 'DIS' 'RAD' 'TAX' 'PTRATIO'\n",
      " 'B' 'LSTAT']\n"
     ]
    }
   ],
   "source": [
    "print(boston.feature_names)"
   ]
  },
  {
   "cell_type": "code",
   "execution_count": 57,
   "metadata": {},
   "outputs": [
    {
     "data": {
      "text/plain": [
       "array([19.58375, 20.12125, 20.8325 , 20.66125,  8.0125 ,  9.4575 ,\n",
       "       19.36   , 22.67375, 26.77875, 15.825  ,  7.77   , 32.0925 ,\n",
       "       16.13375, 18.94   , 42.02625, 19.26   , 24.1175 , 32.50125,\n",
       "       15.47625, 21.62375, 16.285  , 31.21625, 43.6975 , 19.6525 ,\n",
       "       14.53375, 14.605  , 34.63875, 28.07   , 22.88125, 23.56125,\n",
       "       20.1325 , 30.53375, 31.565  , 15.68625, 43.42625, 18.33875,\n",
       "       20.11875, 16.19625, 20.44875, 28.4875 , 22.25   , 13.275  ,\n",
       "       15.5775 , 27.3175 , 17.86125, 12.76375, 21.465  , 20.28875,\n",
       "       18.05   , 20.56375, 24.52875, 24.8225 , 22.70625, 44.06625,\n",
       "       11.27875, 19.91875, 17.95   , 19.5175 , 21.97875, 20.55   ,\n",
       "       20.53125, 32.51875, 19.41625, 20.7775 , 20.9625 , 48.26875,\n",
       "       19.0675 , 19.47125, 22.28125, 28.8375 , 23.01375,  9.69375,\n",
       "       19.75375, 33.52375, 21.35125, 19.73   , 14.8    , 15.7425 ,\n",
       "       31.2625 , 22.08375, 23.41875, 25.8175 , 20.6375 , 35.76   ,\n",
       "       24.90625, 25.83625, 22.86625, 18.6275 , 34.10375, 23.44   ,\n",
       "       31.13375, 43.08375, 42.7275 , 21.7925 , 24.6075 , 11.145  ,\n",
       "       23.245  , 12.95625, 14.05875, 27.53875, 16.35875, 18.00875])"
      ]
     },
     "execution_count": 57,
     "metadata": {},
     "output_type": "execute_result"
    }
   ],
   "source": [
    "rdf.predict(X_test)"
   ]
  }
 ],
 "metadata": {
  "kernelspec": {
   "display_name": "Python 3",
   "language": "python",
   "name": "python3"
  },
  "language_info": {
   "codemirror_mode": {
    "name": "ipython",
    "version": 3
   },
   "file_extension": ".py",
   "mimetype": "text/x-python",
   "name": "python",
   "nbconvert_exporter": "python",
   "pygments_lexer": "ipython3",
   "version": "3.8.3"
  }
 },
 "nbformat": 4,
 "nbformat_minor": 2
}
