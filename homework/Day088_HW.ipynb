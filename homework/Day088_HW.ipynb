{
 "cells": [
  {
   "cell_type": "markdown",
   "metadata": {},
   "source": [
    "## Work\n",
    "1. 請嘗試寫一個 callback 用來記錄各類別在訓練過程中，對驗證集的 True Positive 與 True Negative"
   ]
  },
  {
   "cell_type": "code",
   "execution_count": 93,
   "metadata": {},
   "outputs": [],
   "source": [
    "import os\n",
    "import keras\n",
    "\n",
    "# Disable GPU\n",
    "os.environ[\"CUDA_VISIBLE_DEVICES\"] = \"0\""
   ]
  },
  {
   "cell_type": "code",
   "execution_count": 94,
   "metadata": {},
   "outputs": [],
   "source": [
    "train, test = keras.datasets.cifar10.load_data()"
   ]
  },
  {
   "cell_type": "code",
   "execution_count": 95,
   "metadata": {},
   "outputs": [],
   "source": [
    "## 資料前處理\n",
    "def preproc_x(x, flatten=True):\n",
    "    x = x / 255.\n",
    "    if flatten:\n",
    "        x = x.reshape((len(x), -1))\n",
    "    return x\n",
    "\n",
    "def preproc_y(y, num_classes=10):\n",
    "    if y.shape[-1] == 1:\n",
    "        y = keras.utils.to_categorical(y, num_classes)\n",
    "    return y    "
   ]
  },
  {
   "cell_type": "code",
   "execution_count": 96,
   "metadata": {},
   "outputs": [],
   "source": [
    "x_train, y_train = train\n",
    "x_test, y_test = test\n",
    "\n",
    "# Preproc the inputs\n",
    "x_train = preproc_x(x_train)\n",
    "x_test = preproc_x(x_test)\n",
    "\n",
    "# Preprc the outputs\n",
    "y_train = preproc_y(y_train)\n",
    "y_test = preproc_y(y_test)"
   ]
  },
  {
   "cell_type": "code",
   "execution_count": 97,
   "metadata": {},
   "outputs": [],
   "source": [
    "from keras.layers import BatchNormalization\n",
    "\n",
    "def build_mlp(input_shape, output_units=10, num_neurons=[512, 256, 128]):\n",
    "    input_layer = keras.layers.Input(input_shape)\n",
    "    \n",
    "    for i, n_units in enumerate(num_neurons):\n",
    "        if i == 0:\n",
    "            x = keras.layers.Dense(units=n_units, \n",
    "                                   activation=\"relu\", \n",
    "                                   name=\"hidden_layer\"+str(i+1))(input_layer)\n",
    "            x = BatchNormalization()(x)\n",
    "        else:\n",
    "            x = keras.layers.Dense(units=n_units, \n",
    "                                   activation=\"relu\", \n",
    "                                   name=\"hidden_layer\"+str(i+1))(x)\n",
    "            x = BatchNormalization()(x)\n",
    "    \n",
    "    out = keras.layers.Dense(units=output_units, activation=\"softmax\", name=\"output\")(x)\n",
    "    \n",
    "    model = keras.models.Model(inputs=[input_layer], outputs=[out])\n",
    "    return model"
   ]
  },
  {
   "cell_type": "code",
   "execution_count": 98,
   "metadata": {},
   "outputs": [],
   "source": [
    "## 超參數設定\n",
    "LEARNING_RATE = 1e-3\n",
    "EPOCHS = 25\n",
    "BATCH_SIZE = 1024\n",
    "MOMENTUM = 0.95"
   ]
  },
  {
   "cell_type": "code",
   "execution_count": 99,
   "metadata": {},
   "outputs": [],
   "source": [
    "# 載入 Callbacks\n",
    "from keras.callbacks import Callback\n",
    "import keras\n",
    "\n",
    "# Record_fp_tp\n",
    "class Record_tp_tn(Callback):\n",
    "    \"\"\"Code Here\n",
    "    撰寫一個紀錄 ture positive 與 true negative 數量的 callbacks    \n",
    "    \"\"\"\n",
    "    def __init__(self, validation_data):\n",
    "        super().__init__()\n",
    "        self.validation_data = validation_data\n",
    "        \n",
    "    def on_train_begin(self, epoch, logs = {}):\n",
    "        logs = logs or {}\n",
    "        record_items = [\"val_auc\", \"val_f1sc\", \"val_fp\", \"val_fn\", \"val_tp\", \"val_tn\"]\n",
    "        for i in record_items:\n",
    "            try:\n",
    "                if i not in self.params['metrics']:\n",
    "                    self.params['metrics'].append(i)\n",
    "            except:\n",
    "                self.params['metrics']=i\n",
    "    \n",
    "    def on_epoch_end(self, epoch, logs = {}, thres=0.5):\n",
    "        logs = logs or {}\n",
    "        y_true = self.validation_data[1].argmax(axis = 1)\n",
    "        y_pred = self.model.predict(self.validation_data[0])\n",
    "        y_pred = (y_pred[:, 1] >= thres) * 1\n",
    "        \n",
    "        val_tp = sum(y_true*y_pred)\n",
    "        val_tn = sum((y_true==0) & (y_pred==0))\n",
    "        \n",
    "        logs[\"val_tp\"] = val_tp\n",
    "        logs[\"val_tn\"] = val_tn\n",
    "        \n",
    "#rec_tptn = Record_tp_tn()"
   ]
  },
  {
   "cell_type": "code",
   "execution_count": null,
   "metadata": {},
   "outputs": [],
   "source": []
  },
  {
   "cell_type": "code",
   "execution_count": 100,
   "metadata": {
    "scrolled": true
   },
   "outputs": [
    {
     "name": "stdout",
     "output_type": "stream",
     "text": [
      "Model: \"functional_13\"\n",
      "_________________________________________________________________\n",
      "Layer (type)                 Output Shape              Param #   \n",
      "=================================================================\n",
      "input_7 (InputLayer)         [(None, 3072)]            0         \n",
      "_________________________________________________________________\n",
      "hidden_layer1 (Dense)        (None, 512)               1573376   \n",
      "_________________________________________________________________\n",
      "batch_normalization_18 (Batc (None, 512)               2048      \n",
      "_________________________________________________________________\n",
      "hidden_layer2 (Dense)        (None, 256)               131328    \n",
      "_________________________________________________________________\n",
      "batch_normalization_19 (Batc (None, 256)               1024      \n",
      "_________________________________________________________________\n",
      "hidden_layer3 (Dense)        (None, 128)               32896     \n",
      "_________________________________________________________________\n",
      "batch_normalization_20 (Batc (None, 128)               512       \n",
      "_________________________________________________________________\n",
      "output (Dense)               (None, 10)                1290      \n",
      "=================================================================\n",
      "Total params: 1,742,474\n",
      "Trainable params: 1,740,682\n",
      "Non-trainable params: 1,792\n",
      "_________________________________________________________________\n",
      "Epoch 1/25\n",
      "49/49 [==============================] - 4s 75ms/step - loss: 2.2156 - accuracy: 0.2685 - val_loss: 2.1444 - val_accuracy: 0.1861\n",
      "Epoch 2/25\n",
      "49/49 [==============================] - 3s 68ms/step - loss: 1.7438 - accuracy: 0.3934 - val_loss: 1.9974 - val_accuracy: 0.2624\n",
      "Epoch 3/25\n",
      "49/49 [==============================] - 3s 69ms/step - loss: 1.6200 - accuracy: 0.4343 - val_loss: 1.8573 - val_accuracy: 0.3418\n",
      "Epoch 4/25\n",
      "49/49 [==============================] - 3s 65ms/step - loss: 1.5486 - accuracy: 0.4589 - val_loss: 1.7050 - val_accuracy: 0.4102\n",
      "Epoch 5/25\n",
      "49/49 [==============================] - 3s 65ms/step - loss: 1.4940 - accuracy: 0.4777 - val_loss: 1.6308 - val_accuracy: 0.4346\n",
      "Epoch 6/25\n",
      "49/49 [==============================] - 3s 63ms/step - loss: 1.4501 - accuracy: 0.4942 - val_loss: 1.5940 - val_accuracy: 0.4384\n",
      "Epoch 7/25\n",
      "49/49 [==============================] - 3s 63ms/step - loss: 1.4102 - accuracy: 0.5084 - val_loss: 1.5432 - val_accuracy: 0.4548\n",
      "Epoch 8/25\n",
      "49/49 [==============================] - 3s 66ms/step - loss: 1.3763 - accuracy: 0.5219 - val_loss: 1.5188 - val_accuracy: 0.4629\n",
      "Epoch 9/25\n",
      "49/49 [==============================] - 3s 66ms/step - loss: 1.3450 - accuracy: 0.5331 - val_loss: 1.5009 - val_accuracy: 0.4698\n",
      "Epoch 10/25\n",
      "49/49 [==============================] - 3s 67ms/step - loss: 1.3166 - accuracy: 0.5422 - val_loss: 1.4885 - val_accuracy: 0.4787\n",
      "Epoch 11/25\n",
      "49/49 [==============================] - 3s 67ms/step - loss: 1.2867 - accuracy: 0.5535 - val_loss: 1.4888 - val_accuracy: 0.4748\n",
      "Epoch 12/25\n",
      "49/49 [==============================] - 3s 69ms/step - loss: 1.2605 - accuracy: 0.5618 - val_loss: 1.4810 - val_accuracy: 0.4813\n",
      "Epoch 13/25\n",
      "49/49 [==============================] - 3s 64ms/step - loss: 1.2362 - accuracy: 0.5716 - val_loss: 1.4710 - val_accuracy: 0.4822\n",
      "Epoch 14/25\n",
      "49/49 [==============================] - 3s 63ms/step - loss: 1.2127 - accuracy: 0.5813 - val_loss: 1.4816 - val_accuracy: 0.4762\n",
      "Epoch 15/25\n",
      "49/49 [==============================] - 3s 68ms/step - loss: 1.1898 - accuracy: 0.5899 - val_loss: 1.4722 - val_accuracy: 0.4836\n",
      "Epoch 16/25\n",
      "49/49 [==============================] - 3s 63ms/step - loss: 1.1661 - accuracy: 0.5972 - val_loss: 1.4615 - val_accuracy: 0.4861\n",
      "Epoch 17/25\n",
      "49/49 [==============================] - 3s 63ms/step - loss: 1.1430 - accuracy: 0.6063 - val_loss: 1.4583 - val_accuracy: 0.4872\n",
      "Epoch 18/25\n",
      "49/49 [==============================] - 4s 84ms/step - loss: 1.1210 - accuracy: 0.6152 - val_loss: 1.4696 - val_accuracy: 0.4853\n",
      "Epoch 19/25\n",
      "49/49 [==============================] - 4s 84ms/step - loss: 1.0991 - accuracy: 0.6244 - val_loss: 1.4508 - val_accuracy: 0.4879\n",
      "Epoch 20/25\n",
      "49/49 [==============================] - 4s 81ms/step - loss: 1.0792 - accuracy: 0.6308 - val_loss: 1.4554 - val_accuracy: 0.4946\n",
      "Epoch 21/25\n",
      "49/49 [==============================] - 4s 83ms/step - loss: 1.0570 - accuracy: 0.6404 - val_loss: 1.4637 - val_accuracy: 0.4903\n",
      "Epoch 22/25\n",
      "49/49 [==============================] - 4s 84ms/step - loss: 1.0353 - accuracy: 0.6480 - val_loss: 1.4495 - val_accuracy: 0.4964\n",
      "Epoch 23/25\n",
      "49/49 [==============================] - 4s 82ms/step - loss: 1.0146 - accuracy: 0.6565 - val_loss: 1.4610 - val_accuracy: 0.4898\n",
      "Epoch 24/25\n",
      "49/49 [==============================] - 4s 90ms/step - loss: 0.9940 - accuracy: 0.6639 - val_loss: 1.4639 - val_accuracy: 0.4895\n",
      "Epoch 25/25\n",
      "49/49 [==============================] - 4s 84ms/step - loss: 0.9761 - accuracy: 0.6715 - val_loss: 1.4601 - val_accuracy: 0.4954\n"
     ]
    }
   ],
   "source": [
    "model = build_mlp(input_shape=x_train.shape[1:])\n",
    "model.summary()\n",
    "optimizer = keras.optimizers.SGD(lr=LEARNING_RATE, nesterov=True, momentum=MOMENTUM)\n",
    "model.compile(loss=\"categorical_crossentropy\", metrics=[\"accuracy\"], optimizer=optimizer)\n",
    "\n",
    "\"\"\"Code Here\n",
    "將 callbacks 放入模型訓練流程中\n",
    "\"\"\"\n",
    "model.fit(x_train, y_train, \n",
    "          epochs=EPOCHS, \n",
    "          batch_size=BATCH_SIZE, \n",
    "          validation_data=(x_test, y_test), \n",
    "          shuffle=True,\n",
    "          callbacks=[Record_tp_tn((x_test, y_test))]\n",
    "         )\n",
    "\n",
    "# Collect results\n",
    "train_loss = model.history.history[\"loss\"]\n",
    "valid_loss = model.history.history[\"val_loss\"]\n",
    "train_acc = model.history.history[\"accuracy\"]\n",
    "valid_acc = model.history.history[\"val_accuracy\"]\n",
    "\n",
    "\"\"\"Code Here\n",
    "將 tp/tn 從訓練完的模型中取出\n",
    "\"\"\"\n",
    "valid_tp = model.history.history['val_tp']\n",
    "valid_tn = model.history.history['val_tn']"
   ]
  },
  {
   "cell_type": "code",
   "execution_count": 101,
   "metadata": {},
   "outputs": [
    {
     "data": {
      "image/png": "[encoded data removed]",
      "text/plain": [
       "<Figure size 432x288 with 1 Axes>"
      ]
     },
     "metadata": {
      "needs_background": "light"
     },
     "output_type": "display_data"
    },
    {
     "data": {
      "image/png": "[encoded data removed]",
      "text/plain": [
       "<Figure size 432x288 with 1 Axes>"
      ]
     },
     "metadata": {
      "needs_background": "light"
     },
     "output_type": "display_data"
    },
    {
     "data": {
      "image/png": "[encoded data removed]",
      "text/plain": [
       "<Figure size 432x288 with 1 Axes>"
      ]
     },
     "metadata": {
      "needs_background": "light"
     },
     "output_type": "display_data"
    }
   ],
   "source": [
    "import matplotlib.pyplot as plt\n",
    "%matplotlib inline\n",
    "\n",
    "plt.plot(range(len(train_loss)), train_loss, label=\"train loss\")\n",
    "plt.plot(range(len(valid_loss)), valid_loss, label=\"valid loss\")\n",
    "plt.legend()\n",
    "plt.title(\"Loss\")\n",
    "plt.show()\n",
    "\n",
    "plt.plot(range(len(train_acc)), train_acc, label=\"train accuracy\")\n",
    "plt.plot(range(len(valid_acc)), valid_acc, label=\"valid accuracy\")\n",
    "plt.legend()\n",
    "plt.title(\"Accuracy\")\n",
    "plt.show()\n",
    "\n",
    "plt.plot(range(len(valid_tp)), valid_tp, label=\"valid tp\", color=\"navy\")\n",
    "plt.plot(range(len(valid_tn)), valid_tn, label=\"valid tn\", color=\"red\")\n",
    "plt.legend()\n",
    "plt.title(\"True positives and True Negatives\")\n",
    "plt.show()\n"
   ]
  }
 ],
 "metadata": {
  "kernelspec": {
   "display_name": "Python 3",
   "language": "python",
   "name": "python3"
  },
  "language_info": {
   "codemirror_mode": {
    "name": "ipython",
    "version": 3
   },
   "file_extension": ".py",
   "mimetype": "text/x-python",
   "name": "python",
   "nbconvert_exporter": "python",
   "pygments_lexer": "ipython3",
   "version": "3.7.6"
  }
 },
 "nbformat": 4,
 "nbformat_minor": 2
}
